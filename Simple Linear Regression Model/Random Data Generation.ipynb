{
 "cells": [
  {
   "cell_type": "markdown",
   "id": "6bef6fb5",
   "metadata": {},
   "source": [
    "Intro & Additional Use Cases:\n",
    "https://realpython.com/numpy-random-number-generator/"
   ]
  },
  {
   "cell_type": "code",
   "execution_count": 1,
   "id": "e4cf3e25",
   "metadata": {},
   "outputs": [],
   "source": [
    "import numpy as np\n",
    "import matplotlib.pyplot as plt "
   ]
  },
  {
   "cell_type": "markdown",
   "id": "4c1d5e45",
   "metadata": {},
   "source": [
    "## Numpy's Random Number Generator"
   ]
  },
  {
   "cell_type": "code",
   "execution_count": 2,
   "id": "336a5eaf",
   "metadata": {},
   "outputs": [
    {
     "data": {
      "text/plain": [
       "Generator(PCG64) at 0x1825BCB64A0"
      ]
     },
     "execution_count": 2,
     "metadata": {},
     "output_type": "execute_result"
    }
   ],
   "source": [
    "my_number_generator = np.random.default_rng()\n",
    "my_number_generator"
   ]
  },
  {
   "cell_type": "code",
   "execution_count": 3,
   "id": "c7dd03c3",
   "metadata": {},
   "outputs": [
    {
     "data": {
      "text/plain": [
       "0.9602667148159579"
      ]
     },
     "execution_count": 3,
     "metadata": {},
     "output_type": "execute_result"
    }
   ],
   "source": [
    "my_number_generator.random()"
   ]
  },
  {
   "cell_type": "code",
   "execution_count": 122,
   "id": "5ed77730",
   "metadata": {},
   "outputs": [
    {
     "data": {
      "text/plain": [
       "0.2088635950047554"
      ]
     },
     "execution_count": 122,
     "metadata": {},
     "output_type": "execute_result"
    }
   ],
   "source": [
    "np.random.standard_normal()"
   ]
  },
  {
   "cell_type": "markdown",
   "id": "eafa9426",
   "metadata": {},
   "source": [
    "Passing a seed value determines the sequence of random numbers generated. Passing identical seed values into separate BitGenerator objects forces them to produce the same output. "
   ]
  },
  {
   "cell_type": "code",
   "execution_count": 4,
   "id": "cbdd4c20",
   "metadata": {},
   "outputs": [],
   "source": [
    "randy = np.random.default_rng(seed=10)\n",
    "beatrice = np.random.default_rng(seed=10)"
   ]
  },
  {
   "cell_type": "code",
   "execution_count": 5,
   "id": "8f96da4f",
   "metadata": {},
   "outputs": [
    {
     "name": "stdout",
     "output_type": "stream",
     "text": [
      "0.9560017096289753\n",
      "0.9560017096289753\n"
     ]
    }
   ],
   "source": [
    "print(randy.random())\n",
    "print(beatrice.random())"
   ]
  },
  {
   "cell_type": "markdown",
   "id": "519be71c",
   "metadata": {},
   "source": [
    "The random() method includes a dtype parameter, which is rarely used. By default, this is set to np.float64 which generates 64-bit floats. \n",
    "If you need to, you can also generate random integers. You do this using the Generator object’s .integers() method.\n",
    "\n",
    "Integers() takes at least 1 positional argument that specifies the maximum number > randy.integers(3)\n",
    "<br> But you can also set a low and high value.\n",
    "\n",
    "Iterate to generate more than one number."
   ]
  },
  {
   "cell_type": "code",
   "execution_count": 12,
   "id": "2766226d",
   "metadata": {},
   "outputs": [
    {
     "name": "stdout",
     "output_type": "stream",
     "text": [
      "8\n",
      "1\n",
      "9\n",
      "7\n",
      "3\n",
      "739\n",
      "1973\n",
      "4537\n",
      "3939\n",
      "1169\n"
     ]
    }
   ],
   "source": [
    "for i in range(5):\n",
    "    print(randy.integers(10))\n",
    "    \n",
    "for i in range(5):\n",
    "    (randy.integers(low=50, high=5000))"
   ]
  },
  {
   "cell_type": "markdown",
   "id": "8cd7a92b",
   "metadata": {},
   "source": [
    "Uniform gives a range for the random number"
   ]
  },
  {
   "cell_type": "code",
   "execution_count": 40,
   "id": "b5c359ac",
   "metadata": {},
   "outputs": [
    {
     "data": {
      "text/plain": [
       "5.239734259076514"
      ]
     },
     "execution_count": 40,
     "metadata": {},
     "output_type": "execute_result"
    }
   ],
   "source": [
    "beatrice.uniform(low=3.5,high=5.6)"
   ]
  },
  {
   "cell_type": "markdown",
   "id": "b59b7604",
   "metadata": {},
   "source": [
    "## Random NumPy Arrays"
   ]
  },
  {
   "cell_type": "markdown",
   "id": "85bc1c2f",
   "metadata": {},
   "source": [
    "Giving the generator an size will automatically produce an array. "
   ]
  },
  {
   "cell_type": "code",
   "execution_count": 18,
   "id": "da374011",
   "metadata": {},
   "outputs": [
    {
     "data": {
      "text/plain": [
       "array([0.30631787, 0.96983037, 0.51783421, 0.32247456, 0.28243352])"
      ]
     },
     "execution_count": 18,
     "metadata": {},
     "output_type": "execute_result"
    }
   ],
   "source": [
    "randy.random(size=5)"
   ]
  },
  {
   "cell_type": "code",
   "execution_count": 20,
   "id": "1154eb25",
   "metadata": {},
   "outputs": [
    {
     "data": {
      "text/plain": [
       "array([0.33951558, 0.14856874, 0.45701939, 0.43786436, 0.57421759])"
      ]
     },
     "execution_count": 20,
     "metadata": {},
     "output_type": "execute_result"
    }
   ],
   "source": [
    "randy.random(size=(5,))"
   ]
  },
  {
   "cell_type": "code",
   "execution_count": 19,
   "id": "7ec579cc",
   "metadata": {},
   "outputs": [
    {
     "data": {
      "text/plain": [
       "array([[0.605865  , 0.33376446, 0.67864877],\n",
       "       [0.15442507, 0.24977552, 0.86989425],\n",
       "       [0.60036782, 0.26198306, 0.1494149 ],\n",
       "       [0.13678915, 0.24892094, 0.38282467],\n",
       "       [0.64907906, 0.83756376, 0.77603195]])"
      ]
     },
     "execution_count": 19,
     "metadata": {},
     "output_type": "execute_result"
    }
   ],
   "source": [
    "randy.random(size=(5,3))"
   ]
  },
  {
   "cell_type": "code",
   "execution_count": 116,
   "id": "9d3ae790",
   "metadata": {},
   "outputs": [
    {
     "data": {
      "text/plain": [
       "array([[8, 9, 5],\n",
       "       [8, 3, 9]], dtype=int64)"
      ]
     },
     "execution_count": 116,
     "metadata": {},
     "output_type": "execute_result"
    }
   ],
   "source": [
    "randy.integers(size=(2,3), low=1, high=10)"
   ]
  },
  {
   "cell_type": "code",
   "execution_count": 117,
   "id": "11381357",
   "metadata": {},
   "outputs": [
    {
     "name": "stdout",
     "output_type": "stream",
     "text": [
      "[[6 6 1]\n",
      " [4 4 6]]\n"
     ]
    }
   ],
   "source": [
    "blue = randy.integers(size=(2,3), low=1, high=10)\n",
    "print(blue)"
   ]
  },
  {
   "cell_type": "markdown",
   "id": "76681e90",
   "metadata": {},
   "source": [
    "## Generating a random dataset using a function f(x) with noise"
   ]
  },
  {
   "cell_type": "markdown",
   "id": "e2003fbb",
   "metadata": {},
   "source": [
    "In this example, they use the function \"np.random.randn\", an out of date function. "
   ]
  },
  {
   "cell_type": "code",
   "execution_count": 82,
   "id": "7f5b8bba",
   "metadata": {},
   "outputs": [
    {
     "data": {
      "text/plain": [
       "<matplotlib.collections.PathCollection at 0x1825dec5700>"
      ]
     },
     "execution_count": 82,
     "metadata": {},
     "output_type": "execute_result"
    },
    {
     "data": {
      "image/png": "[encoded data removed]",
      "text/plain": [
       "<Figure size 432x288 with 1 Axes>"
      ]
     },
     "metadata": {
      "needs_background": "light"
     },
     "output_type": "display_data"
    }
   ],
   "source": [
    "true_b = 1\n",
    "true_w = 2\n",
    "N = 20\n",
    "\n",
    "np.random.seed(42)\n",
    "x = np.random.rand(N, 1) #N is the number of points\n",
    "epsilon = (.1 * np.random.randn(N, 1)) #an array; the \"randn\" gives us a standard normal deviation\n",
    "y = true_b + true_w * x + epsilon\n",
    "plt.scatter(x,y)"
   ]
  },
  {
   "cell_type": "markdown",
   "id": "e205be1e",
   "metadata": {},
   "source": [
    "#### Instead of the \"randn\" method, we want to use \"standard_normal\" instead."
   ]
  },
  {
   "cell_type": "code",
   "execution_count": 96,
   "id": "6a3fe430",
   "metadata": {},
   "outputs": [
    {
     "data": {
      "image/png": "[encoded data removed]",
      "text/plain": [
       "<Figure size 432x288 with 1 Axes>"
      ]
     },
     "metadata": {
      "needs_background": "light"
     },
     "output_type": "display_data"
    }
   ],
   "source": [
    "#Here is a set of randomly generated numbers\n",
    "bees = randy.random(size=5000)\n",
    "plt.hist(bees, bins = 50, density = True) \n",
    "plt.show()"
   ]
  },
  {
   "cell_type": "code",
   "execution_count": 93,
   "id": "356e661c",
   "metadata": {},
   "outputs": [
    {
     "data": {
      "text/plain": [
       "<matplotlib.collections.PathCollection at 0x1825f433b50>"
      ]
     },
     "execution_count": 93,
     "metadata": {},
     "output_type": "execute_result"
    },
    {
     "data": {
      "image/png": "[encoded data removed]",
      "text/plain": [
       "<Figure size 432x288 with 1 Axes>"
      ]
     },
     "metadata": {
      "needs_background": "light"
     },
     "output_type": "display_data"
    }
   ],
   "source": [
    "plt.scatter(range(len(bees)),bees)"
   ]
  },
  {
   "cell_type": "code",
   "execution_count": 85,
   "id": "b258675a",
   "metadata": {},
   "outputs": [
    {
     "data": {
      "image/png": "[encoded data removed]",
      "text/plain": [
       "<Figure size 432x288 with 1 Axes>"
      ]
     },
     "metadata": {
      "needs_background": "light"
     },
     "output_type": "display_data"
    }
   ],
   "source": [
    "#Here is a set of randomly generated numbers with a normal distribution\n",
    "spiders = randy.standard_normal(size=5000) \n",
    "plt.hist(spiders, bins = 50, density = True) \n",
    "plt.show()"
   ]
  },
  {
   "cell_type": "code",
   "execution_count": 94,
   "id": "3f679192",
   "metadata": {},
   "outputs": [
    {
     "data": {
      "text/plain": [
       "<matplotlib.collections.PathCollection at 0x18260d854c0>"
      ]
     },
     "execution_count": 94,
     "metadata": {},
     "output_type": "execute_result"
    },
    {
     "data": {
      "image/png": "[encoded data removed]",
      "text/plain": [
       "<Figure size 432x288 with 1 Axes>"
      ]
     },
     "metadata": {
      "needs_background": "light"
     },
     "output_type": "display_data"
    }
   ],
   "source": [
    "plt.scatter(range(len(spiders)),spiders)"
   ]
  },
  {
   "cell_type": "markdown",
   "id": "8be4e394",
   "metadata": {},
   "source": [
    "But I also want my dataset x to be between 0 and 100. <br>\n",
    "But you can't use standard_normal and uniform at the same time. "
   ]
  },
  {
   "cell_type": "code",
   "execution_count": 97,
   "id": "62a15e05",
   "metadata": {},
   "outputs": [
    {
     "ename": "AttributeError",
     "evalue": "'builtin_function_or_method' object has no attribute 'standard_normal'",
     "output_type": "error",
     "traceback": [
      "\u001b[1;31m---------------------------------------------------------------------------\u001b[0m",
      "\u001b[1;31mAttributeError\u001b[0m                            Traceback (most recent call last)",
      "Input \u001b[1;32mIn [97]\u001b[0m, in \u001b[0;36m<cell line: 1>\u001b[1;34m()\u001b[0m\n\u001b[1;32m----> 1\u001b[0m dragonfly \u001b[38;5;241m=\u001b[39m \u001b[43mcaroline\u001b[49m\u001b[38;5;241;43m.\u001b[39;49m\u001b[43mrandom\u001b[49m\u001b[38;5;241;43m.\u001b[39;49m\u001b[43mstandard_normal\u001b[49m(size\u001b[38;5;241m=\u001b[39m\u001b[38;5;241m5000\u001b[39m,low\u001b[38;5;241m=\u001b[39m\u001b[38;5;241m0\u001b[39m,high\u001b[38;5;241m=\u001b[39m\u001b[38;5;241m100\u001b[39m)\n",
      "\u001b[1;31mAttributeError\u001b[0m: 'builtin_function_or_method' object has no attribute 'standard_normal'"
     ]
    }
   ],
   "source": [
    "dragonfly = randy.random.standard_normal(size=5000,low=0,high=100)"
   ]
  },
  {
   "cell_type": "markdown",
   "id": "3431f9c7",
   "metadata": {},
   "source": [
    "Instead, you have to generate numbers that are drawn from a normal distribution, then scale them to fit within your desired range. "
   ]
  },
  {
   "cell_type": "code",
   "execution_count": 125,
   "id": "ebe42ae0",
   "metadata": {},
   "outputs": [
    {
     "data": {
      "image/png": "[encoded data removed]",
      "text/plain": [
       "<Figure size 432x288 with 1 Axes>"
      ]
     },
     "metadata": {
      "needs_background": "light"
     },
     "output_type": "display_data"
    }
   ],
   "source": [
    "#A random set of standard normal numbers, with no range\n",
    "spiders = randy.standard_normal(size=5000)\n",
    "plt.hist(spiders, bins = 50, density = True) \n",
    "plt.show()"
   ]
  },
  {
   "cell_type": "code",
   "execution_count": 99,
   "id": "d394e03c",
   "metadata": {},
   "outputs": [
    {
     "data": {
      "image/png": "[encoded data removed]",
      "text/plain": [
       "<Figure size 432x288 with 1 Axes>"
      ]
     },
     "metadata": {
      "needs_background": "light"
     },
     "output_type": "display_data"
    }
   ],
   "source": [
    "#ladybugs, a random list of number with range, multiplied by the standard normal\n",
    "ladybugs = (randy.uniform(size=5000,low=0,high=100))*spiders \n",
    "plt.hist(ladybugs, bins = 50, density = True) \n",
    "plt.show()"
   ]
  },
  {
   "cell_type": "code",
   "execution_count": 100,
   "id": "95269ca6",
   "metadata": {},
   "outputs": [
    {
     "data": {
      "text/plain": [
       "<matplotlib.collections.PathCollection at 0x1826110f580>"
      ]
     },
     "execution_count": 100,
     "metadata": {},
     "output_type": "execute_result"
    },
    {
     "data": {
      "image/png": "[encoded data removed]",
      "text/plain": [
       "<Figure size 432x288 with 1 Axes>"
      ]
     },
     "metadata": {
      "needs_background": "light"
     },
     "output_type": "display_data"
    }
   ],
   "source": [
    "plt.scatter(range(len(ladybugs)),ladybugs)"
   ]
  },
  {
   "cell_type": "markdown",
   "id": "6d559047",
   "metadata": {},
   "source": [
    "#### Now I generate a dataset of x and y values with the function f(x)"
   ]
  },
  {
   "cell_type": "code",
   "execution_count": 101,
   "id": "5b886f22",
   "metadata": {},
   "outputs": [
    {
     "data": {
      "text/plain": [
       "<matplotlib.collections.PathCollection at 0x1826214bb20>"
      ]
     },
     "execution_count": 101,
     "metadata": {},
     "output_type": "execute_result"
    },
    {
     "data": {
      "image/png": "[encoded data removed]",
      "text/plain": [
       "<Figure size 432x288 with 1 Axes>"
      ]
     },
     "metadata": {
      "needs_background": "light"
     },
     "output_type": "display_data"
    }
   ],
   "source": [
    "b = 1\n",
    "w = 2\n",
    "\n",
    "x = randy.uniform(size=200,low=1, high=100) #X is truly random\n",
    "y = b + w * x\n",
    "plt.scatter(x,y)"
   ]
  },
  {
   "cell_type": "markdown",
   "id": "14def7b1",
   "metadata": {},
   "source": [
    "#### Generate a dataset, but add some noise using a normally distributed factor \"epsilon\""
   ]
  },
  {
   "cell_type": "code",
   "execution_count": 102,
   "id": "c38f9084",
   "metadata": {},
   "outputs": [
    {
     "data": {
      "text/plain": [
       "<matplotlib.collections.PathCollection at 0x182621b5dc0>"
      ]
     },
     "execution_count": 102,
     "metadata": {},
     "output_type": "execute_result"
    },
    {
     "data": {
      "image/png": "[encoded data removed]",
      "text/plain": [
       "<Figure size 432x288 with 1 Axes>"
      ]
     },
     "metadata": {
      "needs_background": "light"
     },
     "output_type": "display_data"
    }
   ],
   "source": [
    "b = 1\n",
    "w = 2\n",
    "\n",
    "x = randy.uniform(size=200,low=1, high=100) \n",
    "epsilon = randy.standard_normal(size = 200) * 30 #adjust the factor to get more or less noise\n",
    "y = b + w * x + epsilon \n",
    "plt.scatter(x,y)"
   ]
  },
  {
   "cell_type": "markdown",
   "id": "2c371267",
   "metadata": {},
   "source": [
    "#### An example of a randomly generated dataset that is not normally distributed for noise"
   ]
  },
  {
   "cell_type": "code",
   "execution_count": 103,
   "id": "c938cba0",
   "metadata": {},
   "outputs": [
    {
     "data": {
      "text/plain": [
       "<matplotlib.collections.PathCollection at 0x182621d53d0>"
      ]
     },
     "execution_count": 103,
     "metadata": {},
     "output_type": "execute_result"
    },
    {
     "data": {
      "image/png": "[encoded data removed]",
      "text/plain": [
       "<Figure size 432x288 with 1 Axes>"
      ]
     },
     "metadata": {
      "needs_background": "light"
     },
     "output_type": "display_data"
    }
   ],
   "source": [
    "b = 1\n",
    "w = 2\n",
    "\n",
    "x = randy.uniform(size=200,low=1, high=100)\n",
    "epsilon = randy.uniform(size = 200, low=-50, high=50) #Instead I give epsilon a range of deviation\n",
    "y = b + w * x + epsilon\n",
    "plt.scatter(x,y)"
   ]
  },
  {
   "cell_type": "markdown",
   "id": "fbd0656d",
   "metadata": {},
   "source": [
    "#### Some examples with higher and lower values"
   ]
  },
  {
   "cell_type": "code",
   "execution_count": 111,
   "id": "1ff82eaa",
   "metadata": {},
   "outputs": [
    {
     "data": {
      "text/plain": [
       "<matplotlib.collections.PathCollection at 0x18262278d60>"
      ]
     },
     "execution_count": 111,
     "metadata": {},
     "output_type": "execute_result"
    },
    {
     "data": {
      "image/png": "[encoded data removed]",
      "text/plain": [
       "<Figure size 432x288 with 1 Axes>"
      ]
     },
     "metadata": {
      "needs_background": "light"
     },
     "output_type": "display_data"
    }
   ],
   "source": [
    "b = 30\n",
    "w = -6\n",
    "\n",
    "x = randy.uniform(size=500,low=-100, high=100) \n",
    "epsilon = randy.standard_normal(size = 500) * 300\n",
    "y = b + w *x + epsilon \n",
    "train = np.array([x,y])\n",
    "plt.scatter(x,y)"
   ]
  },
  {
   "cell_type": "code",
   "execution_count": 115,
   "id": "61be0896",
   "metadata": {},
   "outputs": [
    {
     "data": {
      "text/plain": [
       "<matplotlib.collections.PathCollection at 0x18262382160>"
      ]
     },
     "execution_count": 115,
     "metadata": {},
     "output_type": "execute_result"
    },
    {
     "data": {
      "image/png": "[encoded data removed]",
      "text/plain": [
       "<Figure size 432x288 with 1 Axes>"
      ]
     },
     "metadata": {
      "needs_background": "light"
     },
     "output_type": "display_data"
    }
   ],
   "source": [
    "b = 30\n",
    "w = -60\n",
    "\n",
    "x = randy.uniform(size=500,low=-10, high=10) \n",
    "epsilon = randy.standard_normal(size = 500) * 40\n",
    "y = b + w *x + epsilon \n",
    "train = np.array([x,y])\n",
    "plt.scatter(x,y)"
   ]
  },
  {
   "cell_type": "code",
   "execution_count": null,
   "id": "5832e367",
   "metadata": {},
   "outputs": [],
   "source": []
  },
  {
   "cell_type": "code",
   "execution_count": 129,
   "id": "67878e8c",
   "metadata": {},
   "outputs": [
    {
     "name": "stdout",
     "output_type": "stream",
     "text": [
      "(800,)\n"
     ]
    }
   ],
   "source": [
    "s = randy.standard_normal(800)\n",
    "print(s.shape)"
   ]
  },
  {
   "cell_type": "code",
   "execution_count": 163,
   "id": "44313f3c",
   "metadata": {},
   "outputs": [
    {
     "data": {
      "text/plain": [
       "<matplotlib.collections.PathCollection at 0x182627c2520>"
      ]
     },
     "execution_count": 163,
     "metadata": {},
     "output_type": "execute_result"
    },
    {
     "data": {
      "image/png": "[encoded data removed]",
      "text/plain": [
       "<Figure size 432x288 with 1 Axes>"
      ]
     },
     "metadata": {
      "needs_background": "light"
     },
     "output_type": "display_data"
    }
   ],
   "source": [
    "jam = randy.standard_normal(100)\n",
    "plt.scatter(range(len(jam)),jam)"
   ]
  },
  {
   "cell_type": "code",
   "execution_count": 157,
   "id": "5c9a0a39",
   "metadata": {},
   "outputs": [
    {
     "data": {
      "image/png": "[encoded data removed]",
      "text/plain": [
       "<Figure size 432x288 with 1 Axes>"
      ]
     },
     "metadata": {
      "needs_background": "light"
     },
     "output_type": "display_data"
    }
   ],
   "source": [
    "plt.hist(jam, density = True) \n",
    "plt.show()"
   ]
  },
  {
   "cell_type": "code",
   "execution_count": 165,
   "id": "284c8236",
   "metadata": {},
   "outputs": [
    {
     "name": "stdout",
     "output_type": "stream",
     "text": [
      "100\n"
     ]
    }
   ],
   "source": [
    "print(len(jam))"
   ]
  },
  {
   "cell_type": "code",
   "execution_count": 168,
   "id": "558f33e5",
   "metadata": {},
   "outputs": [
    {
     "name": "stdout",
     "output_type": "stream",
     "text": [
      "2♣\n",
      "3♣\n",
      "4♣\n",
      "5♣\n",
      "6♣\n",
      "7♣\n",
      "8♣\n",
      "9♣\n",
      "10♣\n",
      "J♣\n",
      "Q♣\n",
      "K♣\n",
      "A♣\n",
      "2♢\n",
      "3♢\n",
      "4♢\n",
      "5♢\n",
      "6♢\n",
      "7♢\n",
      "8♢\n",
      "9♢\n",
      "10♢\n",
      "J♢\n",
      "Q♢\n",
      "K♢\n",
      "A♢\n",
      "2♡\n",
      "3♡\n",
      "4♡\n",
      "5♡\n",
      "6♡\n",
      "7♡\n",
      "8♡\n",
      "9♡\n",
      "10♡\n",
      "J♡\n",
      "Q♡\n",
      "K♡\n",
      "A♡\n",
      "2♠\n",
      "3♠\n",
      "4♠\n",
      "5♠\n",
      "6♠\n",
      "7♠\n",
      "8♠\n",
      "9♠\n",
      "10♠\n",
      "J♠\n",
      "Q♠\n",
      "K♠\n",
      "A♠\n"
     ]
    }
   ],
   "source": [
    "RANKS = \"2 3 4 5 6 7 8 9 10 J Q K A\".split()\n",
    "SUITS = \"♣ ♢ ♡ ♠\".split()\n",
    "\n",
    "for s in SUITS:\n",
    "    for r in RANKS:\n",
    "        print(r+s)"
   ]
  },
  {
   "cell_type": "code",
   "execution_count": 177,
   "id": "c1521a98",
   "metadata": {},
   "outputs": [
    {
     "name": "stdout",
     "output_type": "stream",
     "text": [
      "['2♣' '3♣' '4♣' '5♣' '6♣' '7♣' '8♣' '9♣' '10♣' 'J♣' 'Q♣' 'K♣' 'A♣' '2♢'\n",
      " '3♢' '4♢' '5♢' '6♢' '7♢' '8♢' '9♢' '10♢' 'J♢' 'Q♢' 'K♢' 'A♢' '2♡' '3♡'\n",
      " '4♡' '5♡' '6♡' '7♡' '8♡' '9♡' '10♡' 'J♡' 'Q♡' 'K♡' 'A♡' '2♠' '3♠' '4♠'\n",
      " '5♠' '6♠' '7♠' '8♠' '9♠' '10♠' 'J♠' 'Q♠' 'K♠' 'A♠']\n"
     ]
    }
   ],
   "source": [
    "deck = np.array([r + s for s in SUITS for r in RANKS])\n",
    "print(deck)"
   ]
  },
  {
   "cell_type": "code",
   "execution_count": 178,
   "id": "dd6077d4",
   "metadata": {},
   "outputs": [
    {
     "name": "stdout",
     "output_type": "stream",
     "text": [
      "A♠\n"
     ]
    }
   ],
   "source": [
    "print(deck[-1])"
   ]
  },
  {
   "cell_type": "code",
   "execution_count": 179,
   "id": "a944a274",
   "metadata": {},
   "outputs": [],
   "source": [
    "def create_deck():\n",
    "    RANKS = \"2 3 4 5 6 7 8 9 10 J Q K A\".split()\n",
    "    SUITS = \"♣ ♢ ♡ ♠\".split()\n",
    "    return np.array([r + s for s in SUITS for r in RANKS])"
   ]
  },
  {
   "cell_type": "code",
   "execution_count": 180,
   "id": "02c56522",
   "metadata": {},
   "outputs": [
    {
     "name": "stdout",
     "output_type": "stream",
     "text": [
      "['2♣' '3♣' '4♣' '5♣' '6♣' '7♣' '8♣' '9♣' '10♣' 'J♣' 'Q♣' 'K♣' 'A♣' '2♢'\n",
      " '3♢' '4♢' '5♢' '6♢' '7♢' '8♢' '9♢' '10♢' 'J♢' 'Q♢' 'K♢' 'A♢' '2♡' '3♡'\n",
      " '4♡' '5♡' '6♡' '7♡' '8♡' '9♡' '10♡' 'J♡' 'Q♡' 'K♡' 'A♡' '2♠' '3♠' '4♠'\n",
      " '5♠' '6♠' '7♠' '8♠' '9♠' '10♠' 'J♠' 'Q♠' 'K♠' 'A♠']\n"
     ]
    }
   ],
   "source": [
    "deck = create_deck()\n",
    "print(deck)"
   ]
  },
  {
   "cell_type": "code",
   "execution_count": 187,
   "id": "4d4959b6",
   "metadata": {},
   "outputs": [
    {
     "data": {
      "text/plain": [
       "array(['7♣'], dtype='<U3')"
      ]
     },
     "execution_count": 187,
     "metadata": {},
     "output_type": "execute_result"
    }
   ],
   "source": [
    "randy.shuffle(deck)\n",
    "deck[0:1]"
   ]
  },
  {
   "cell_type": "code",
   "execution_count": 188,
   "id": "07330284",
   "metadata": {},
   "outputs": [
    {
     "name": "stdout",
     "output_type": "stream",
     "text": [
      "['7♣' '9♠' 'J♣' 'J♠' '6♡' 'Q♣' 'A♡' 'J♡' '6♢' '5♣' 'A♢' '10♣' '3♠' '3♢'\n",
      " '4♣' '4♠' 'A♠' '5♢' 'K♢' '4♡' '8♠' '7♠' '7♢' 'Q♡' '2♣' '5♠' '10♡' 'Q♢'\n",
      " 'K♣' '3♣' '3♡' 'K♠' 'J♢' '10♢' 'A♣' '7♡' '10♠' '2♠' '4♢' '2♢' '6♣' '5♡'\n",
      " '9♡' '6♠' '2♡' 'K♡' 'Q♠' '8♡' '9♣' '8♣' '9♢' '8♢']\n"
     ]
    }
   ],
   "source": [
    "print(deck)"
   ]
  },
  {
   "cell_type": "code",
   "execution_count": null,
   "id": "bc47e1d0",
   "metadata": {},
   "outputs": [],
   "source": []
  }
 ],
 "metadata": {
  "kernelspec": {
   "display_name": "Python 3 (ipykernel)",
   "language": "python",
   "name": "python3"
  },
  "language_info": {
   "codemirror_mode": {
    "name": "ipython",
    "version": 3
   },
   "file_extension": ".py",
   "mimetype": "text/x-python",
   "name": "python",
   "nbconvert_exporter": "python",
   "pygments_lexer": "ipython3",
   "version": "3.9.12"
  }
 },
 "nbformat": 4,
 "nbformat_minor": 5
}
