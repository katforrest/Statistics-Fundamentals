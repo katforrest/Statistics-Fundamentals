{
 "cells": [
  {
   "cell_type": "code",
   "execution_count": 1,
   "id": "2dedb6ce",
   "metadata": {},
   "outputs": [],
   "source": [
    "import pandas as pd\n",
    "import numpy as np\n",
    "import matplotlib.pyplot as plt\n",
    "from sklearn.preprocessing import StandardScaler"
   ]
  },
  {
   "cell_type": "code",
   "execution_count": 2,
   "id": "10b796e4",
   "metadata": {},
   "outputs": [
    {
     "name": "stdout",
     "output_type": "stream",
     "text": [
      "    size(sqft)  bedrooms  floors  age  Price (1000's)\n",
      "0          952         2       1   65           271.5\n",
      "1         1244         3       1   64           300.0\n",
      "2         1947         3       2   17           509.8\n",
      "3         1725         3       2   42           394.0\n",
      "4         1959         3       2   15           540.0\n",
      "..         ...       ...     ...  ...             ...\n",
      "95        1224         2       2   12           329.0\n",
      "96        1432         2       1   43           388.0\n",
      "97        1660         3       2   19           390.0\n",
      "98        1212         3       1   20           356.0\n",
      "99        1050         2       1   65           257.8\n",
      "\n",
      "[100 rows x 5 columns]\n"
     ]
    }
   ],
   "source": [
    "df = pd.read_csv(\"./houses.csv\")\n",
    "print(df)"
   ]
  },
  {
   "cell_type": "code",
   "execution_count": 3,
   "id": "b133f43f",
   "metadata": {},
   "outputs": [
    {
     "name": "stdout",
     "output_type": "stream",
     "text": [
      "(100, 4)\n",
      "(100,)\n"
     ]
    }
   ],
   "source": [
    "## Store the data as an array for x and y values\n",
    "feature_count = df.shape[1] - 1\n",
    "rows_list = []\n",
    "for i in range(len(df)):\n",
    "    new_row = np.array(df.iloc[i,0:feature_count])\n",
    "    rows_list.append(new_row)\n",
    "    \n",
    "x = np.array(rows_list)\n",
    "y = np.array(df.iloc[:,feature_count])\n",
    "print(x.shape)\n",
    "print(y.shape)"
   ]
  },
  {
   "cell_type": "markdown",
   "id": "903cb869",
   "metadata": {},
   "source": [
    "## Split the data into training and validation"
   ]
  },
  {
   "cell_type": "code",
   "execution_count": 4,
   "id": "7edbdfb4",
   "metadata": {},
   "outputs": [],
   "source": [
    "n = len(y)\n",
    "randy = np.random.default_rng()\n",
    "idx = np.arange(n)\n",
    "randy.shuffle(idx)\n",
    "\n",
    "## Splits the data into 80% training and 20% validation\n",
    "train_idx = idx[:int(n*.8)]\n",
    "val_idx = idx[int(n*.8):]\n",
    "\n",
    "x_train, y_train = x[train_idx], y[train_idx]\n",
    "x_val, y_val = x[val_idx], y[val_idx]"
   ]
  },
  {
   "cell_type": "code",
   "execution_count": 5,
   "id": "a78fcd79",
   "metadata": {},
   "outputs": [
    {
     "name": "stdout",
     "output_type": "stream",
     "text": [
      "The training data has 80 observations.\n",
      "The validation data has 20 observations.\n"
     ]
    }
   ],
   "source": [
    "training_lenth = len(x_train)\n",
    "validation_length = len(x_val)\n",
    "print(f\"The training data has {training_lenth} observations.\")\n",
    "print(f\"The validation data has {validation_length} observations.\")"
   ]
  },
  {
   "cell_type": "markdown",
   "id": "38bf60e1",
   "metadata": {},
   "source": [
    "## Plot the training data"
   ]
  },
  {
   "cell_type": "code",
   "execution_count": 6,
   "id": "10552bac",
   "metadata": {
    "scrolled": true
   },
   "outputs": [
    {
     "data": {
      "image/png": "[encoded data removed]",
      "text/plain": [
       "<Figure size 864x216 with 4 Axes>"
      ]
     },
     "metadata": {
      "needs_background": "light"
     },
     "output_type": "display_data"
    }
   ],
   "source": [
    "columns = df.columns.tolist()\n",
    "x_features = columns[:feature_count]\n",
    "y_feature = columns[feature_count]\n",
    "\n",
    "fig, ax=plt.subplots(1,feature_count,  figsize=(12,3),  sharey=True)\n",
    "\n",
    "for i in range(len(ax)):\n",
    "    ax[i].scatter(x_train[:,i],y_train)\n",
    "    ax[i].set_xlabel(x_features[i])\n",
    "ax[0].set_ylabel(y_feature)\n",
    "plt.show()"
   ]
  },
  {
   "cell_type": "markdown",
   "id": "49e46e11",
   "metadata": {},
   "source": [
    "## Input an inital values of w, b, and alpha"
   ]
  },
  {
   "cell_type": "code",
   "execution_count": 7,
   "id": "cedd6796",
   "metadata": {},
   "outputs": [],
   "source": [
    "## Enter values in w, b and alpha\n",
    "\n",
    "columns = ['iteration', 'J', 'w', 'b']\n",
    "results = pd.DataFrame(columns = columns)\n",
    "w = np.array([150.01, -50.00, -80.0, -10.0])\n",
    "b = 390.00\n",
    "alpha = 0.0001"
   ]
  },
  {
   "cell_type": "code",
   "execution_count": 8,
   "id": "82ee747b",
   "metadata": {},
   "outputs": [],
   "source": [
    "def scale_data(x):\n",
    "    \n",
    "    skyler = StandardScaler(with_mean=True, with_std=True)\n",
    "    skyler.fit(x)\n",
    "    x = skyler.transform(x)\n",
    "    \n",
    "    return x, skyler\n",
    "\n",
    "def calculate_J(x, y, w, b):\n",
    "     \n",
    "    J = 0\n",
    "    s = 0\n",
    "    for i in range(len(x)):\n",
    "        xi = x[i]\n",
    "        yi = y[i]\n",
    "        function = (np.dot(w,xi))+b\n",
    "        difference = (function-yi)**2\n",
    "        s = difference + s\n",
    "    J = s/(2*(len(x)))\n",
    "    \n",
    "    return J, w, b\n",
    "    \n",
    "def add_results(J, w, b, iteration):\n",
    "    new_row = {'iteration': iteration, 'J': J, 'w': w, 'b': b}\n",
    "    results.loc[len(results)] = new_row   \n",
    "    \n",
    "def update_wb(x, y, w_init, b_init, alpha):\n",
    "    \n",
    "    s = 0\n",
    "    for i in range(len(x_train)):\n",
    "        xi = x[i]\n",
    "        yi = y[i]\n",
    "        function = (np.dot(w_init,xi)) + b_init\n",
    "        difference = (function - yi) * xi\n",
    "        s = difference + s\n",
    "    s = s * (1/len(x)) *alpha\n",
    "        \n",
    "    w= w_init-s\n",
    "    \n",
    "    s=0\n",
    "    for i in range(len(x_train)):\n",
    "        xi = x[i]\n",
    "        yi = y[i]\n",
    "        function = (np.dot(w_init,xi)) + b_init\n",
    "        difference = function - yi\n",
    "        s = difference + s\n",
    "    s = s * (1/len(x)) *alpha \n",
    "    \n",
    "    b = b_init - s\n",
    "    \n",
    "    return w, b\n",
    "\n",
    "def select_coef(results):\n",
    "    \n",
    "    min_J = results.loc[results['J'].idxmin()]\n",
    "    \n",
    "    model_w = np.round((min_J['w']), 2)\n",
    "    model_b = round(min_J['b'],2)\n",
    "    \n",
    "    return model_w, model_b\n",
    "\n",
    "def calculate_gradient_descent(x, y, w, b, alpha, iterations):\n",
    "    \n",
    "    x, skyler = scale_data(x)  ##skyler is the scaler object (which now contains the scaling paramter)\n",
    "    \n",
    "    for i in range(iterations):\n",
    "        J, w, b = calculate_J(x, y, w, b)\n",
    "        add_results(J, w, b, i)\n",
    "    \n",
    "        w, b = update_wb(x, y, w, b, alpha)\n",
    "        \n",
    "    model_w, model_b = select_coef(results)\n",
    "    \n",
    "    return results, skyler, model_w, model_b    "
   ]
  },
  {
   "cell_type": "markdown",
   "id": "6bc23134",
   "metadata": {},
   "source": [
    "## Use training data to find the linear regression model"
   ]
  },
  {
   "cell_type": "code",
   "execution_count": 9,
   "id": "d5b20527",
   "metadata": {
    "scrolled": true
   },
   "outputs": [
    {
     "name": "stdout",
     "output_type": "stream",
     "text": [
      "       iteration            J  \\\n",
      "0              0  2103.660669   \n",
      "1              1  2103.220998   \n",
      "2              2  2102.781473   \n",
      "3              3  2102.342095   \n",
      "4              4  2101.902864   \n",
      "...          ...          ...   \n",
      "49995      49995   253.771002   \n",
      "49996      49996   253.769148   \n",
      "49997      49997   253.767295   \n",
      "49998      49998   253.765442   \n",
      "49999      49999   253.763588   \n",
      "\n",
      "                                                       w           b  \n",
      "0                          [150.01, -50.0, -80.0, -10.0]  390.000000  \n",
      "1      [150.01153586202506, -49.99726899119555, -79.9...  389.997142  \n",
      "2      [150.0130710956002, -49.994538515056746, -79.9...  389.994285  \n",
      "3      [150.0146057008703, -49.991808571465064, -79.9...  389.991428  \n",
      "4      [150.01613967798022, -49.98907916030199, -79.9...  389.988571  \n",
      "...                                                  ...         ...  \n",
      "49995  [124.26074164928545, -24.333607911737847, -41....  361.615003  \n",
      "49996  [124.26040577996147, -24.333420392351204, -41....  361.614983  \n",
      "49997  [124.26006992074312, -24.333232877855284, -41....  361.614964  \n",
      "49998  [124.25973407163008, -24.333045368249994, -41....  361.614945  \n",
      "49999  [124.25939823262203, -24.332857863535242, -41....  361.614925  \n",
      "\n",
      "[50000 rows x 4 columns]\n"
     ]
    }
   ],
   "source": [
    "results, skyler, model_w, model_b = calculate_gradient_descent(x_train, y_train, w, b, alpha, 50000)\n",
    "print(results)"
   ]
  },
  {
   "cell_type": "code",
   "execution_count": 10,
   "id": "d64f4db4",
   "metadata": {},
   "outputs": [
    {
     "data": {
      "text/plain": [
       "[<matplotlib.lines.Line2D at 0x17201d24c70>]"
      ]
     },
     "execution_count": 10,
     "metadata": {},
     "output_type": "execute_result"
    },
    {
     "data": {
      "image/png": "[encoded data removed]",
      "text/plain": [
       "<Figure size 432x288 with 1 Axes>"
      ]
     },
     "metadata": {
      "needs_background": "light"
     },
     "output_type": "display_data"
    }
   ],
   "source": [
    "## Check for convergence\n",
    "plt.plot(results['iteration'], results['J'])"
   ]
  },
  {
   "cell_type": "code",
   "execution_count": 11,
   "id": "12e8006f",
   "metadata": {},
   "outputs": [
    {
     "name": "stdout",
     "output_type": "stream",
     "text": [
      "[124.26 -24.33 -41.04 -35.39] 361.61\n"
     ]
    }
   ],
   "source": [
    "print(model_w, model_b)"
   ]
  },
  {
   "cell_type": "code",
   "execution_count": 12,
   "id": "284d10e8",
   "metadata": {},
   "outputs": [],
   "source": [
    "## Save the results of gradient descent to a spreadsheet if you want to review them\n",
    "results.to_csv('temp.csv', index=False)"
   ]
  },
  {
   "cell_type": "markdown",
   "id": "22ea7b6e",
   "metadata": {},
   "source": [
    "## Use the model to predict y"
   ]
  },
  {
   "cell_type": "code",
   "execution_count": 13,
   "id": "3a986e99",
   "metadata": {},
   "outputs": [],
   "source": [
    "def predict_results(x_variable, fitted_scaler, model_w, model_b):\n",
    "    \n",
    "    scaled_x = fitted_scaler.transform(x_variable)\n",
    "    predictions = np.array([])\n",
    "    \n",
    "    for i in range(len(scaled_x)):\n",
    "        predicted_y = np.dot(model_w, scaled_x[i]) + model_b\n",
    "        predictions = np.append(predictions,predicted_y)\n",
    "    \n",
    "    return predictions, scaled_x"
   ]
  },
  {
   "cell_type": "code",
   "execution_count": 14,
   "id": "3938a8da",
   "metadata": {},
   "outputs": [],
   "source": [
    "predictions, scaled_x = predict_results(x_val, skyler, model_w, model_b)"
   ]
  },
  {
   "cell_type": "code",
   "execution_count": 15,
   "id": "9d3ae5f6",
   "metadata": {},
   "outputs": [
    {
     "name": "stdout",
     "output_type": "stream",
     "text": [
      "[124.26 -24.33 -41.04 -35.39] 361.61\n"
     ]
    }
   ],
   "source": [
    "print(model_w, model_b)"
   ]
  },
  {
   "cell_type": "markdown",
   "id": "50d84840",
   "metadata": {},
   "source": [
    "## Plot the predictions"
   ]
  },
  {
   "cell_type": "code",
   "execution_count": 16,
   "id": "cbc9a9ec",
   "metadata": {},
   "outputs": [
    {
     "data": {
      "image/png": "[encoded data removed]",
      "text/plain": [
       "<Figure size 864x216 with 4 Axes>"
      ]
     },
     "metadata": {
      "needs_background": "light"
     },
     "output_type": "display_data"
    }
   ],
   "source": [
    "fig, ax=plt.subplots(1, feature_count,  figsize=(12,3),  sharey=True)\n",
    "\n",
    "for i in range(len(ax)):\n",
    "    ax[i].scatter(x_val[:,i], y_val, label = 'target')\n",
    "    ax[i].set_xlabel(x_features[i])\n",
    "    ax[i].scatter(x_val[:,i], predictions, color=[\"orange\"], label = 'prediction')\n",
    "ax[0].set_ylabel(y_feature); ax[0].legend();\n",
    "plt.show()"
   ]
  },
  {
   "cell_type": "markdown",
   "id": "81011d7a",
   "metadata": {},
   "source": [
    "## Single Prediction"
   ]
  },
  {
   "cell_type": "code",
   "execution_count": 18,
   "id": "cdc63d32",
   "metadata": {},
   "outputs": [
    {
     "name": "stdout",
     "output_type": "stream",
     "text": [
      "[[1500.    3.    2.   25.]]\n"
     ]
    }
   ],
   "source": [
    "given_x = np.array([1500.0, 3.0, 2.0, 25])\n",
    "given_x = given_x.reshape(1,-1)\n",
    "print(given_x)"
   ]
  },
  {
   "cell_type": "code",
   "execution_count": 19,
   "id": "86ddbe91",
   "metadata": {},
   "outputs": [],
   "source": [
    "single_prediction, scaled_x = predict_results(given_x, skyler, model_w, model_b)"
   ]
  },
  {
   "cell_type": "code",
   "execution_count": 20,
   "id": "63222bab",
   "metadata": {},
   "outputs": [
    {
     "name": "stdout",
     "output_type": "stream",
     "text": [
      "[344.49526601]\n"
     ]
    }
   ],
   "source": [
    "print(single_prediction)"
   ]
  },
  {
   "cell_type": "code",
   "execution_count": 21,
   "id": "e5ed7aa9",
   "metadata": {},
   "outputs": [
    {
     "name": "stdout",
     "output_type": "stream",
     "text": [
      "Given a house with 1500.0 sq ft, 3.0 bedrooms, 2.0 floors, and 25.0 years of age, the expected price would be $344495.27.\n"
     ]
    }
   ],
   "source": [
    "size = given_x[0,0]\n",
    "bedrooms = round(given_x[0,1],0)\n",
    "floors = round(given_x[0,2], 0)\n",
    "age= given_x[0,3]\n",
    "price = round((single_prediction[0]*1000),2)\n",
    "\n",
    "print(f\"Given a house with {size} sq ft, {bedrooms} bedrooms, {floors} floors, and {age} years of age, the expected price would be ${price}.\")"
   ]
  },
  {
   "cell_type": "code",
   "execution_count": null,
   "id": "805d9124",
   "metadata": {},
   "outputs": [],
   "source": []
  }
 ],
 "metadata": {
  "kernelspec": {
   "display_name": "Python 3 (ipykernel)",
   "language": "python",
   "name": "python3"
  },
  "language_info": {
   "codemirror_mode": {
    "name": "ipython",
    "version": 3
   },
   "file_extension": ".py",
   "mimetype": "text/x-python",
   "name": "python",
   "nbconvert_exporter": "python",
   "pygments_lexer": "ipython3",
   "version": "3.9.12"
  }
 },
 "nbformat": 4,
 "nbformat_minor": 5
}
