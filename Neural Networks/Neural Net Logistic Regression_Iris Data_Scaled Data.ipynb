{
 "cells": [
  {
   "cell_type": "code",
   "execution_count": 1,
   "id": "d487e017",
   "metadata": {},
   "outputs": [],
   "source": [
    "import numpy as np\n",
    "import matplotlib.pyplot as plt\n",
    "import pandas as pd\n",
    "import seaborn as sns\n",
    "import math\n",
    "import tensorflow as tf\n",
    "from tensorflow.keras.models import Sequential\n",
    "from tensorflow.keras.layers import Dense\n",
    "from sklearn.metrics import confusion_matrix\n",
    "%matplotlib inline"
   ]
  },
  {
   "cell_type": "code",
   "execution_count": 2,
   "id": "2da2c09b",
   "metadata": {},
   "outputs": [
    {
     "name": "stdout",
     "output_type": "stream",
     "text": [
      "     sepal length  sepal width  petal length  petal width           class\n",
      "0             5.1          3.5           1.4          0.2     Iris-setosa\n",
      "1             4.9          3.0           1.4          0.2     Iris-setosa\n",
      "2             4.7          3.2           1.3          0.2     Iris-setosa\n",
      "3             4.6          3.1           1.5          0.2     Iris-setosa\n",
      "4             5.0          3.6           1.4          0.2     Iris-setosa\n",
      "..            ...          ...           ...          ...             ...\n",
      "145           6.7          3.0           5.2          2.3  Iris-virginica\n",
      "146           6.3          2.5           5.0          1.9  Iris-virginica\n",
      "147           6.5          3.0           5.2          2.0  Iris-virginica\n",
      "148           6.2          3.4           5.4          2.3  Iris-virginica\n",
      "149           5.9          3.0           5.1          1.8  Iris-virginica\n",
      "\n",
      "[150 rows x 5 columns]\n"
     ]
    }
   ],
   "source": [
    "df = pd.read_csv(\"./data/iris.csv\")\n",
    "print(df)"
   ]
  },
  {
   "cell_type": "code",
   "execution_count": 3,
   "id": "1c0b8559",
   "metadata": {},
   "outputs": [
    {
     "name": "stderr",
     "output_type": "stream",
     "text": [
      "C:\\Users\\kasey\\AppData\\Local\\Temp\\ipykernel_9472\\2788827901.py:3: FutureWarning: Downcasting behavior in `replace` is deprecated and will be removed in a future version. To retain the old behavior, explicitly call `result.infer_objects(copy=False)`. To opt-in to the future behavior, set `pd.set_option('future.no_silent_downcasting', True)`\n",
      "  df['class'] = df['class'].replace(iris_type)\n"
     ]
    },
    {
     "data": {
      "text/html": [
       "<div>\n",
       "<style scoped>\n",
       "    .dataframe tbody tr th:only-of-type {\n",
       "        vertical-align: middle;\n",
       "    }\n",
       "\n",
       "    .dataframe tbody tr th {\n",
       "        vertical-align: top;\n",
       "    }\n",
       "\n",
       "    .dataframe thead th {\n",
       "        text-align: right;\n",
       "    }\n",
       "</style>\n",
       "<table border=\"1\" class=\"dataframe\">\n",
       "  <thead>\n",
       "    <tr style=\"text-align: right;\">\n",
       "      <th></th>\n",
       "      <th>sepal length</th>\n",
       "      <th>sepal width</th>\n",
       "      <th>petal length</th>\n",
       "      <th>petal width</th>\n",
       "      <th>class</th>\n",
       "    </tr>\n",
       "  </thead>\n",
       "  <tbody>\n",
       "    <tr>\n",
       "      <th>0</th>\n",
       "      <td>5.1</td>\n",
       "      <td>3.5</td>\n",
       "      <td>1.4</td>\n",
       "      <td>0.2</td>\n",
       "      <td>0</td>\n",
       "    </tr>\n",
       "    <tr>\n",
       "      <th>1</th>\n",
       "      <td>4.9</td>\n",
       "      <td>3.0</td>\n",
       "      <td>1.4</td>\n",
       "      <td>0.2</td>\n",
       "      <td>0</td>\n",
       "    </tr>\n",
       "    <tr>\n",
       "      <th>2</th>\n",
       "      <td>4.7</td>\n",
       "      <td>3.2</td>\n",
       "      <td>1.3</td>\n",
       "      <td>0.2</td>\n",
       "      <td>0</td>\n",
       "    </tr>\n",
       "    <tr>\n",
       "      <th>3</th>\n",
       "      <td>4.6</td>\n",
       "      <td>3.1</td>\n",
       "      <td>1.5</td>\n",
       "      <td>0.2</td>\n",
       "      <td>0</td>\n",
       "    </tr>\n",
       "    <tr>\n",
       "      <th>4</th>\n",
       "      <td>5.0</td>\n",
       "      <td>3.6</td>\n",
       "      <td>1.4</td>\n",
       "      <td>0.2</td>\n",
       "      <td>0</td>\n",
       "    </tr>\n",
       "    <tr>\n",
       "      <th>...</th>\n",
       "      <td>...</td>\n",
       "      <td>...</td>\n",
       "      <td>...</td>\n",
       "      <td>...</td>\n",
       "      <td>...</td>\n",
       "    </tr>\n",
       "    <tr>\n",
       "      <th>145</th>\n",
       "      <td>6.7</td>\n",
       "      <td>3.0</td>\n",
       "      <td>5.2</td>\n",
       "      <td>2.3</td>\n",
       "      <td>0</td>\n",
       "    </tr>\n",
       "    <tr>\n",
       "      <th>146</th>\n",
       "      <td>6.3</td>\n",
       "      <td>2.5</td>\n",
       "      <td>5.0</td>\n",
       "      <td>1.9</td>\n",
       "      <td>0</td>\n",
       "    </tr>\n",
       "    <tr>\n",
       "      <th>147</th>\n",
       "      <td>6.5</td>\n",
       "      <td>3.0</td>\n",
       "      <td>5.2</td>\n",
       "      <td>2.0</td>\n",
       "      <td>0</td>\n",
       "    </tr>\n",
       "    <tr>\n",
       "      <th>148</th>\n",
       "      <td>6.2</td>\n",
       "      <td>3.4</td>\n",
       "      <td>5.4</td>\n",
       "      <td>2.3</td>\n",
       "      <td>0</td>\n",
       "    </tr>\n",
       "    <tr>\n",
       "      <th>149</th>\n",
       "      <td>5.9</td>\n",
       "      <td>3.0</td>\n",
       "      <td>5.1</td>\n",
       "      <td>1.8</td>\n",
       "      <td>0</td>\n",
       "    </tr>\n",
       "  </tbody>\n",
       "</table>\n",
       "<p>150 rows × 5 columns</p>\n",
       "</div>"
      ],
      "text/plain": [
       "     sepal length  sepal width  petal length  petal width  class\n",
       "0             5.1          3.5           1.4          0.2      0\n",
       "1             4.9          3.0           1.4          0.2      0\n",
       "2             4.7          3.2           1.3          0.2      0\n",
       "3             4.6          3.1           1.5          0.2      0\n",
       "4             5.0          3.6           1.4          0.2      0\n",
       "..            ...          ...           ...          ...    ...\n",
       "145           6.7          3.0           5.2          2.3      0\n",
       "146           6.3          2.5           5.0          1.9      0\n",
       "147           6.5          3.0           5.2          2.0      0\n",
       "148           6.2          3.4           5.4          2.3      0\n",
       "149           5.9          3.0           5.1          1.8      0\n",
       "\n",
       "[150 rows x 5 columns]"
      ]
     },
     "execution_count": 3,
     "metadata": {},
     "output_type": "execute_result"
    }
   ],
   "source": [
    "##Update the dataframe; assign the classification a value of 1 or 0 where 1 = \"Iris Veriscolour\".\n",
    "iris_type = {'Iris-virginica': 0, 'Iris-setosa': 0, 'Iris-versicolor': 1}\n",
    "df['class'] = df['class'].replace(iris_type)\n",
    "df"
   ]
  },
  {
   "cell_type": "code",
   "execution_count": 4,
   "id": "fce1b9ca-3158-425e-95df-b3f9afd69762",
   "metadata": {},
   "outputs": [
    {
     "name": "stdout",
     "output_type": "stream",
     "text": [
      "[0 1]\n"
     ]
    }
   ],
   "source": [
    "print(df[\"class\"].unique())"
   ]
  },
  {
   "cell_type": "code",
   "execution_count": 5,
   "id": "4f5292fa",
   "metadata": {},
   "outputs": [
    {
     "name": "stdout",
     "output_type": "stream",
     "text": [
      "(150, 4)\n",
      "(150,)\n"
     ]
    }
   ],
   "source": [
    "feature_count = df.shape[1] - 1\n",
    "rows_list = []\n",
    "for i in range(len(df)):\n",
    "    new_row = np.array(df.iloc[i,0:feature_count])\n",
    "    rows_list.append(new_row)\n",
    "    \n",
    "x = np.array(rows_list)\n",
    "y = np.array(df.iloc[:,feature_count])\n",
    "print(x.shape)\n",
    "print(y.shape)"
   ]
  },
  {
   "cell_type": "code",
   "execution_count": 6,
   "id": "7f30c0d7",
   "metadata": {},
   "outputs": [
    {
     "name": "stdout",
     "output_type": "stream",
     "text": [
      "The training data has 120 observations.\n",
      "The validation data has 30 observations.\n"
     ]
    }
   ],
   "source": [
    "n = len(y)\n",
    "randy = np.random.default_rng()\n",
    "idx = np.arange(n)\n",
    "randy.shuffle(idx)\n",
    "\n",
    "## Splits the data into 80% training and 20% validation\n",
    "train_idx = idx[:int(n*.8)]\n",
    "val_idx = idx[int(n*.8):]\n",
    "\n",
    "x_train, y_train = x[train_idx], y[train_idx]\n",
    "x_val, y_val = x[val_idx], y[val_idx]\n",
    "\n",
    "training_lenth = len(x_train)\n",
    "validation_length = len(x_val)\n",
    "print(f\"The training data has {training_lenth} observations.\")\n",
    "print(f\"The validation data has {validation_length} observations.\")"
   ]
  },
  {
   "cell_type": "code",
   "execution_count": 7,
   "id": "74cc89c2",
   "metadata": {},
   "outputs": [
    {
     "data": {
      "text/html": [
       "<svg  width=\"330\" height=\"55\"><rect x=\"0\" y=\"0\" width=\"55\" height=\"55\" style=\"fill:#e98d6b;stroke-width:2;stroke:rgb(255,255,255)\"/><rect x=\"55\" y=\"0\" width=\"55\" height=\"55\" style=\"fill:#e3685c;stroke-width:2;stroke:rgb(255,255,255)\"/><rect x=\"110\" y=\"0\" width=\"55\" height=\"55\" style=\"fill:#d14a61;stroke-width:2;stroke:rgb(255,255,255)\"/><rect x=\"165\" y=\"0\" width=\"55\" height=\"55\" style=\"fill:#b13c6c;stroke-width:2;stroke:rgb(255,255,255)\"/><rect x=\"220\" y=\"0\" width=\"55\" height=\"55\" style=\"fill:#8f3371;stroke-width:2;stroke:rgb(255,255,255)\"/><rect x=\"275\" y=\"0\" width=\"55\" height=\"55\" style=\"fill:#6c2b6d;stroke-width:2;stroke:rgb(255,255,255)\"/></svg>"
      ],
      "text/plain": [
       "[(0.9155979, 0.55210684, 0.42070204),\n",
       " (0.888292, 0.40830288, 0.36223756),\n",
       " (0.81942908, 0.28911553, 0.38102921),\n",
       " (0.69226314, 0.23413578, 0.42480327),\n",
       " (0.56041794, 0.19845221, 0.44207535),\n",
       " (0.42355299, 0.16934709, 0.42581586)]"
      ]
     },
     "execution_count": 7,
     "metadata": {},
     "output_type": "execute_result"
    }
   ],
   "source": [
    "sns.set_theme(palette=\"flare\")\n",
    "sns.color_palette(\"flare\")"
   ]
  },
  {
   "cell_type": "markdown",
   "id": "53ffd676-aaf2-4ccb-892a-620ef7d1eb6e",
   "metadata": {},
   "source": [
    "## Visualize the Training Data"
   ]
  },
  {
   "cell_type": "code",
   "execution_count": 8,
   "id": "1088e40f",
   "metadata": {},
   "outputs": [
    {
     "data": {
      "image/png": "[encoded data removed]",
      "text/plain": [
       "<Figure size 1400x300 with 4 Axes>"
      ]
     },
     "metadata": {},
     "output_type": "display_data"
    }
   ],
   "source": [
    "## plot the data from the first four features in side by side graphs\n",
    "columns = df.columns.tolist()\n",
    "x_features = columns[:feature_count]\n",
    "y_feature = columns[feature_count]\n",
    "\n",
    "fig, ax=plt.subplots(1,4,  figsize=(14,3),  sharey=True)\n",
    "\n",
    "for i in range(4):\n",
    "    ax[i].scatter(x_train[:,i],y_train)\n",
    "    ax[i].set_xlabel(x_features[i])\n",
    "ax[0].set_ylabel(y_feature)\n",
    "plt.show()"
   ]
  },
  {
   "cell_type": "code",
   "execution_count": 53,
   "id": "bbd28e69-bd5c-4cc0-87fd-00bbdab6b959",
   "metadata": {},
   "outputs": [
    {
     "name": "stdout",
     "output_type": "stream",
     "text": [
      "['sepal length', 'sepal width', 'petal length', 'petal width', 'class']\n"
     ]
    }
   ],
   "source": [
    "print(columns)"
   ]
  },
  {
   "cell_type": "code",
   "execution_count": 9,
   "id": "e1a17e13",
   "metadata": {},
   "outputs": [],
   "source": [
    "## plots logistic data using the first two features as the x y axis\n",
    "def plot_data(X, y, ax, pos_label, neg_label, s=80, loc='best' ):\n",
    "\n",
    "    pos = y == 1\n",
    "    neg = y == 0\n",
    "    pos = pos.reshape(-1,)\n",
    "    neg = neg.reshape(-1,)\n",
    "\n",
    "    ax.scatter(X[pos, 0], X[pos, 1], marker='o', s=s, label=pos_label)\n",
    "    ax.scatter(X[neg, 0], X[neg, 1], marker='x', s=s, label=neg_label, lw=3)\n",
    "    ax.legend(loc=loc)\n",
    "\n",
    "    ax.figure.canvas.toolbar_visible = False\n",
    "    ax.figure.canvas.header_visible = False\n",
    "    ax.figure.canvas.footer_visible = False"
   ]
  },
  {
   "cell_type": "code",
   "execution_count": 10,
   "id": "b4b8ad89",
   "metadata": {},
   "outputs": [
    {
     "data": {
      "image/png": "[encoded data removed]",
      "text/plain": [
       "<Figure size 640x480 with 1 Axes>"
      ]
     },
     "metadata": {},
     "output_type": "display_data"
    }
   ],
   "source": [
    "fig, ax = plt.subplots()\n",
    "plot_data(x_train[0:200], y_train[0:200], ax, \"quality\", \"not quality\", s=60)\n",
    "x_label,y_label = x_features[0:2]\n",
    "##y_label = y_feature\n",
    "plt.ylabel(y_label) \n",
    "plt.xlabel(x_label) \n",
    "plt.legend(loc=\"upper right\")\n",
    "plt.show()"
   ]
  },
  {
   "cell_type": "markdown",
   "id": "f1a5cc76",
   "metadata": {},
   "source": [
    "## Create a Neural Net Model"
   ]
  },
  {
   "cell_type": "code",
   "execution_count": 11,
   "id": "6d79b51b",
   "metadata": {},
   "outputs": [],
   "source": [
    "## Scale Data\n",
    "abby = tf.keras.layers.Normalization()\n",
    "abby.adapt(x_train)\n",
    "x_train_norm = abby(x_train)"
   ]
  },
  {
   "cell_type": "code",
   "execution_count": 12,
   "id": "f01f60e5",
   "metadata": {},
   "outputs": [],
   "source": [
    "## Create Model\n",
    "#pick number of layers, number of neurons, ReLu activation, desnse layers\n",
    "\n",
    "Model = Sequential([\n",
    "    Dense(units=4, activation='relu'),\n",
    "    Dense(units=2, activation='relu'),\n",
    "    Dense(units=1, activation='sigmoid')\n",
    "])"
   ]
  },
  {
   "cell_type": "code",
   "execution_count": 39,
   "id": "269fd5b5",
   "metadata": {
    "scrolled": true
   },
   "outputs": [
    {
     "name": "stdout",
     "output_type": "stream",
     "text": [
      "Epoch 1/50\n",
      "\u001b[1m1/1\u001b[0m \u001b[32m━━━━━━━━━━━━━━━━━━━━\u001b[0m\u001b[37m\u001b[0m \u001b[1m1s\u001b[0m 926ms/step - accuracy: 0.7917 - loss: 0.5937 - val_accuracy: 0.7917 - val_loss: 0.6168\n",
      "Epoch 2/50\n",
      "\u001b[1m1/1\u001b[0m \u001b[32m━━━━━━━━━━━━━━━━━━━━\u001b[0m\u001b[37m\u001b[0m \u001b[1m0s\u001b[0m 42ms/step - accuracy: 0.7917 - loss: 0.5931 - val_accuracy: 0.7917 - val_loss: 0.6162\n",
      "Epoch 3/50\n",
      "\u001b[1m1/1\u001b[0m \u001b[32m━━━━━━━━━━━━━━━━━━━━\u001b[0m\u001b[37m\u001b[0m \u001b[1m0s\u001b[0m 52ms/step - accuracy: 0.7917 - loss: 0.5926 - val_accuracy: 0.7917 - val_loss: 0.6155\n",
      "Epoch 4/50\n",
      "\u001b[1m1/1\u001b[0m \u001b[32m━━━━━━━━━━━━━━━━━━━━\u001b[0m\u001b[37m\u001b[0m \u001b[1m0s\u001b[0m 58ms/step - accuracy: 0.7917 - loss: 0.5920 - val_accuracy: 0.7917 - val_loss: 0.6148\n",
      "Epoch 5/50\n",
      "\u001b[1m1/1\u001b[0m \u001b[32m━━━━━━━━━━━━━━━━━━━━\u001b[0m\u001b[37m\u001b[0m \u001b[1m0s\u001b[0m 54ms/step - accuracy: 0.7917 - loss: 0.5914 - val_accuracy: 0.7917 - val_loss: 0.6141\n",
      "Epoch 6/50\n",
      "\u001b[1m1/1\u001b[0m \u001b[32m━━━━━━━━━━━━━━━━━━━━\u001b[0m\u001b[37m\u001b[0m \u001b[1m0s\u001b[0m 81ms/step - accuracy: 0.7917 - loss: 0.5909 - val_accuracy: 0.7917 - val_loss: 0.6134\n",
      "Epoch 7/50\n",
      "\u001b[1m1/1\u001b[0m \u001b[32m━━━━━━━━━━━━━━━━━━━━\u001b[0m\u001b[37m\u001b[0m \u001b[1m0s\u001b[0m 50ms/step - accuracy: 0.7917 - loss: 0.5904 - val_accuracy: 0.7917 - val_loss: 0.6128\n",
      "Epoch 8/50\n",
      "\u001b[1m1/1\u001b[0m \u001b[32m━━━━━━━━━━━━━━━━━━━━\u001b[0m\u001b[37m\u001b[0m \u001b[1m0s\u001b[0m 51ms/step - accuracy: 0.7917 - loss: 0.5899 - val_accuracy: 0.7917 - val_loss: 0.6121\n",
      "Epoch 9/50\n",
      "\u001b[1m1/1\u001b[0m \u001b[32m━━━━━━━━━━━━━━━━━━━━\u001b[0m\u001b[37m\u001b[0m \u001b[1m0s\u001b[0m 36ms/step - accuracy: 0.7917 - loss: 0.5894 - val_accuracy: 0.7917 - val_loss: 0.6115\n",
      "Epoch 10/50\n",
      "\u001b[1m1/1\u001b[0m \u001b[32m━━━━━━━━━━━━━━━━━━━━\u001b[0m\u001b[37m\u001b[0m \u001b[1m0s\u001b[0m 37ms/step - accuracy: 0.7917 - loss: 0.5888 - val_accuracy: 0.7917 - val_loss: 0.6109\n",
      "Epoch 11/50\n",
      "\u001b[1m1/1\u001b[0m \u001b[32m━━━━━━━━━━━━━━━━━━━━\u001b[0m\u001b[37m\u001b[0m \u001b[1m0s\u001b[0m 37ms/step - accuracy: 0.7917 - loss: 0.5883 - val_accuracy: 0.7917 - val_loss: 0.6103\n",
      "Epoch 12/50\n",
      "\u001b[1m1/1\u001b[0m \u001b[32m━━━━━━━━━━━━━━━━━━━━\u001b[0m\u001b[37m\u001b[0m \u001b[1m0s\u001b[0m 51ms/step - accuracy: 0.7917 - loss: 0.5878 - val_accuracy: 0.7917 - val_loss: 0.6097\n",
      "Epoch 13/50\n",
      "\u001b[1m1/1\u001b[0m \u001b[32m━━━━━━━━━━━━━━━━━━━━\u001b[0m\u001b[37m\u001b[0m \u001b[1m0s\u001b[0m 47ms/step - accuracy: 0.7917 - loss: 0.5873 - val_accuracy: 0.7917 - val_loss: 0.6091\n",
      "Epoch 14/50\n",
      "\u001b[1m1/1\u001b[0m \u001b[32m━━━━━━━━━━━━━━━━━━━━\u001b[0m\u001b[37m\u001b[0m \u001b[1m0s\u001b[0m 51ms/step - accuracy: 0.7917 - loss: 0.5868 - val_accuracy: 0.7917 - val_loss: 0.6085\n",
      "Epoch 15/50\n",
      "\u001b[1m1/1\u001b[0m \u001b[32m━━━━━━━━━━━━━━━━━━━━\u001b[0m\u001b[37m\u001b[0m \u001b[1m0s\u001b[0m 50ms/step - accuracy: 0.7917 - loss: 0.5863 - val_accuracy: 0.7917 - val_loss: 0.6079\n",
      "Epoch 16/50\n",
      "\u001b[1m1/1\u001b[0m \u001b[32m━━━━━━━━━━━━━━━━━━━━\u001b[0m\u001b[37m\u001b[0m \u001b[1m0s\u001b[0m 49ms/step - accuracy: 0.8021 - loss: 0.5857 - val_accuracy: 0.7917 - val_loss: 0.6072\n",
      "Epoch 17/50\n",
      "\u001b[1m1/1\u001b[0m \u001b[32m━━━━━━━━━━━━━━━━━━━━\u001b[0m\u001b[37m\u001b[0m \u001b[1m0s\u001b[0m 50ms/step - accuracy: 0.8021 - loss: 0.5852 - val_accuracy: 0.7917 - val_loss: 0.6066\n",
      "Epoch 18/50\n",
      "\u001b[1m1/1\u001b[0m \u001b[32m━━━━━━━━━━━━━━━━━━━━\u001b[0m\u001b[37m\u001b[0m \u001b[1m0s\u001b[0m 58ms/step - accuracy: 0.8021 - loss: 0.5847 - val_accuracy: 0.7917 - val_loss: 0.6060\n",
      "Epoch 19/50\n",
      "\u001b[1m1/1\u001b[0m \u001b[32m━━━━━━━━━━━━━━━━━━━━\u001b[0m\u001b[37m\u001b[0m \u001b[1m0s\u001b[0m 55ms/step - accuracy: 0.8021 - loss: 0.5842 - val_accuracy: 0.7917 - val_loss: 0.6055\n",
      "Epoch 20/50\n",
      "\u001b[1m1/1\u001b[0m \u001b[32m━━━━━━━━━━━━━━━━━━━━\u001b[0m\u001b[37m\u001b[0m \u001b[1m0s\u001b[0m 62ms/step - accuracy: 0.8021 - loss: 0.5837 - val_accuracy: 0.7917 - val_loss: 0.6049\n",
      "Epoch 21/50\n",
      "\u001b[1m1/1\u001b[0m \u001b[32m━━━━━━━━━━━━━━━━━━━━\u001b[0m\u001b[37m\u001b[0m \u001b[1m0s\u001b[0m 53ms/step - accuracy: 0.8021 - loss: 0.5831 - val_accuracy: 0.7917 - val_loss: 0.6044\n",
      "Epoch 22/50\n",
      "\u001b[1m1/1\u001b[0m \u001b[32m━━━━━━━━━━━━━━━━━━━━\u001b[0m\u001b[37m\u001b[0m \u001b[1m0s\u001b[0m 52ms/step - accuracy: 0.8021 - loss: 0.5826 - val_accuracy: 0.7917 - val_loss: 0.6038\n",
      "Epoch 23/50\n",
      "\u001b[1m1/1\u001b[0m \u001b[32m━━━━━━━━━━━━━━━━━━━━\u001b[0m\u001b[37m\u001b[0m \u001b[1m0s\u001b[0m 50ms/step - accuracy: 0.8021 - loss: 0.5821 - val_accuracy: 0.7917 - val_loss: 0.6033\n",
      "Epoch 24/50\n",
      "\u001b[1m1/1\u001b[0m \u001b[32m━━━━━━━━━━━━━━━━━━━━\u001b[0m\u001b[37m\u001b[0m \u001b[1m0s\u001b[0m 50ms/step - accuracy: 0.8021 - loss: 0.5816 - val_accuracy: 0.7917 - val_loss: 0.6027\n",
      "Epoch 25/50\n",
      "\u001b[1m1/1\u001b[0m \u001b[32m━━━━━━━━━━━━━━━━━━━━\u001b[0m\u001b[37m\u001b[0m \u001b[1m0s\u001b[0m 35ms/step - accuracy: 0.8021 - loss: 0.5811 - val_accuracy: 0.7917 - val_loss: 0.6022\n",
      "Epoch 26/50\n",
      "\u001b[1m1/1\u001b[0m \u001b[32m━━━━━━━━━━━━━━━━━━━━\u001b[0m\u001b[37m\u001b[0m \u001b[1m0s\u001b[0m 36ms/step - accuracy: 0.8125 - loss: 0.5806 - val_accuracy: 0.7917 - val_loss: 0.6016\n",
      "Epoch 27/50\n",
      "\u001b[1m1/1\u001b[0m \u001b[32m━━━━━━━━━━━━━━━━━━━━\u001b[0m\u001b[37m\u001b[0m \u001b[1m0s\u001b[0m 51ms/step - accuracy: 0.8125 - loss: 0.5801 - val_accuracy: 0.7917 - val_loss: 0.6011\n",
      "Epoch 28/50\n",
      "\u001b[1m1/1\u001b[0m \u001b[32m━━━━━━━━━━━━━━━━━━━━\u001b[0m\u001b[37m\u001b[0m \u001b[1m0s\u001b[0m 51ms/step - accuracy: 0.8125 - loss: 0.5796 - val_accuracy: 0.7917 - val_loss: 0.6006\n",
      "Epoch 29/50\n",
      "\u001b[1m1/1\u001b[0m \u001b[32m━━━━━━━━━━━━━━━━━━━━\u001b[0m\u001b[37m\u001b[0m \u001b[1m0s\u001b[0m 50ms/step - accuracy: 0.8229 - loss: 0.5791 - val_accuracy: 0.7917 - val_loss: 0.6002\n",
      "Epoch 30/50\n",
      "\u001b[1m1/1\u001b[0m \u001b[32m━━━━━━━━━━━━━━━━━━━━\u001b[0m\u001b[37m\u001b[0m \u001b[1m0s\u001b[0m 50ms/step - accuracy: 0.8229 - loss: 0.5786 - val_accuracy: 0.8333 - val_loss: 0.5998\n",
      "Epoch 31/50\n",
      "\u001b[1m1/1\u001b[0m \u001b[32m━━━━━━━━━━━━━━━━━━━━\u001b[0m\u001b[37m\u001b[0m \u001b[1m0s\u001b[0m 49ms/step - accuracy: 0.8229 - loss: 0.5781 - val_accuracy: 0.8333 - val_loss: 0.5994\n",
      "Epoch 32/50\n",
      "\u001b[1m1/1\u001b[0m \u001b[32m━━━━━━━━━━━━━━━━━━━━\u001b[0m\u001b[37m\u001b[0m \u001b[1m0s\u001b[0m 51ms/step - accuracy: 0.8229 - loss: 0.5776 - val_accuracy: 0.8333 - val_loss: 0.5991\n",
      "Epoch 33/50\n",
      "\u001b[1m1/1\u001b[0m \u001b[32m━━━━━━━━━━━━━━━━━━━━\u001b[0m\u001b[37m\u001b[0m \u001b[1m0s\u001b[0m 50ms/step - accuracy: 0.8125 - loss: 0.5771 - val_accuracy: 0.8333 - val_loss: 0.5987\n",
      "Epoch 34/50\n",
      "\u001b[1m1/1\u001b[0m \u001b[32m━━━━━━━━━━━━━━━━━━━━\u001b[0m\u001b[37m\u001b[0m \u001b[1m0s\u001b[0m 53ms/step - accuracy: 0.8125 - loss: 0.5765 - val_accuracy: 0.8333 - val_loss: 0.5983\n",
      "Epoch 35/50\n",
      "\u001b[1m1/1\u001b[0m \u001b[32m━━━━━━━━━━━━━━━━━━━━\u001b[0m\u001b[37m\u001b[0m \u001b[1m0s\u001b[0m 51ms/step - accuracy: 0.8125 - loss: 0.5760 - val_accuracy: 0.8333 - val_loss: 0.5979\n",
      "Epoch 36/50\n",
      "\u001b[1m1/1\u001b[0m \u001b[32m━━━━━━━━━━━━━━━━━━━━\u001b[0m\u001b[37m\u001b[0m \u001b[1m0s\u001b[0m 55ms/step - accuracy: 0.8125 - loss: 0.5755 - val_accuracy: 0.8333 - val_loss: 0.5975\n",
      "Epoch 37/50\n",
      "\u001b[1m1/1\u001b[0m \u001b[32m━━━━━━━━━━━━━━━━━━━━\u001b[0m\u001b[37m\u001b[0m \u001b[1m0s\u001b[0m 57ms/step - accuracy: 0.8125 - loss: 0.5749 - val_accuracy: 0.8333 - val_loss: 0.5971\n",
      "Epoch 38/50\n",
      "\u001b[1m1/1\u001b[0m \u001b[32m━━━━━━━━━━━━━━━━━━━━\u001b[0m\u001b[37m\u001b[0m \u001b[1m0s\u001b[0m 64ms/step - accuracy: 0.8125 - loss: 0.5744 - val_accuracy: 0.8333 - val_loss: 0.5967\n",
      "Epoch 39/50\n",
      "\u001b[1m1/1\u001b[0m \u001b[32m━━━━━━━━━━━━━━━━━━━━\u001b[0m\u001b[37m\u001b[0m \u001b[1m0s\u001b[0m 51ms/step - accuracy: 0.8125 - loss: 0.5738 - val_accuracy: 0.8333 - val_loss: 0.5963\n",
      "Epoch 40/50\n",
      "\u001b[1m1/1\u001b[0m \u001b[32m━━━━━━━━━━━━━━━━━━━━\u001b[0m\u001b[37m\u001b[0m \u001b[1m0s\u001b[0m 49ms/step - accuracy: 0.8125 - loss: 0.5733 - val_accuracy: 0.8333 - val_loss: 0.5959\n",
      "Epoch 41/50\n",
      "\u001b[1m1/1\u001b[0m \u001b[32m━━━━━━━━━━━━━━━━━━━━\u001b[0m\u001b[37m\u001b[0m \u001b[1m0s\u001b[0m 65ms/step - accuracy: 0.8125 - loss: 0.5728 - val_accuracy: 0.8333 - val_loss: 0.5955\n",
      "Epoch 42/50\n",
      "\u001b[1m1/1\u001b[0m \u001b[32m━━━━━━━━━━━━━━━━━━━━\u001b[0m\u001b[37m\u001b[0m \u001b[1m0s\u001b[0m 175ms/step - accuracy: 0.8125 - loss: 0.5722 - val_accuracy: 0.8333 - val_loss: 0.5952\n",
      "Epoch 43/50\n",
      "\u001b[1m1/1\u001b[0m \u001b[32m━━━━━━━━━━━━━━━━━━━━\u001b[0m\u001b[37m\u001b[0m \u001b[1m0s\u001b[0m 61ms/step - accuracy: 0.8125 - loss: 0.5717 - val_accuracy: 0.8333 - val_loss: 0.5948\n",
      "Epoch 44/50\n",
      "\u001b[1m1/1\u001b[0m \u001b[32m━━━━━━━━━━━━━━━━━━━━\u001b[0m\u001b[37m\u001b[0m \u001b[1m0s\u001b[0m 51ms/step - accuracy: 0.8125 - loss: 0.5711 - val_accuracy: 0.8333 - val_loss: 0.5945\n",
      "Epoch 45/50\n",
      "\u001b[1m1/1\u001b[0m \u001b[32m━━━━━━━━━━━━━━━━━━━━\u001b[0m\u001b[37m\u001b[0m \u001b[1m0s\u001b[0m 61ms/step - accuracy: 0.8125 - loss: 0.5706 - val_accuracy: 0.8333 - val_loss: 0.5942\n",
      "Epoch 46/50\n",
      "\u001b[1m1/1\u001b[0m \u001b[32m━━━━━━━━━━━━━━━━━━━━\u001b[0m\u001b[37m\u001b[0m \u001b[1m0s\u001b[0m 71ms/step - accuracy: 0.8125 - loss: 0.5700 - val_accuracy: 0.8333 - val_loss: 0.5939\n",
      "Epoch 47/50\n",
      "\u001b[1m1/1\u001b[0m \u001b[32m━━━━━━━━━━━━━━━━━━━━\u001b[0m\u001b[37m\u001b[0m \u001b[1m0s\u001b[0m 69ms/step - accuracy: 0.8125 - loss: 0.5694 - val_accuracy: 0.8333 - val_loss: 0.5935\n",
      "Epoch 48/50\n",
      "\u001b[1m1/1\u001b[0m \u001b[32m━━━━━━━━━━━━━━━━━━━━\u001b[0m\u001b[37m\u001b[0m \u001b[1m0s\u001b[0m 66ms/step - accuracy: 0.8125 - loss: 0.5688 - val_accuracy: 0.8333 - val_loss: 0.5932\n",
      "Epoch 49/50\n",
      "\u001b[1m1/1\u001b[0m \u001b[32m━━━━━━━━━━━━━━━━━━━━\u001b[0m\u001b[37m\u001b[0m \u001b[1m0s\u001b[0m 41ms/step - accuracy: 0.8125 - loss: 0.5683 - val_accuracy: 0.8333 - val_loss: 0.5929\n",
      "Epoch 50/50\n",
      "\u001b[1m1/1\u001b[0m \u001b[32m━━━━━━━━━━━━━━━━━━━━\u001b[0m\u001b[37m\u001b[0m \u001b[1m0s\u001b[0m 50ms/step - accuracy: 0.8125 - loss: 0.5677 - val_accuracy: 0.8333 - val_loss: 0.5925\n"
     ]
    }
   ],
   "source": [
    "# Compile the model\n",
    "Model.compile(optimizer='adam', loss='binary_crossentropy', metrics=['accuracy'])\n",
    "\n",
    "# Fit the model\n",
    "history = Model.fit(x_train_norm, y_train, epochs=50, batch_size=256, validation_split=0.2)"
   ]
  },
  {
   "cell_type": "code",
   "execution_count": 40,
   "id": "522beecb",
   "metadata": {},
   "outputs": [
    {
     "name": "stdout",
     "output_type": "stream",
     "text": [
      "\u001b[1m1/1\u001b[0m \u001b[32m━━━━━━━━━━━━━━━━━━━━\u001b[0m\u001b[37m\u001b[0m \u001b[1m0s\u001b[0m 42ms/step\n"
     ]
    }
   ],
   "source": [
    "x_val_norm = abby(x_val)\n",
    "y_prediction = Model.predict(x_val_norm)"
   ]
  },
  {
   "cell_type": "code",
   "execution_count": 41,
   "id": "8391598b",
   "metadata": {},
   "outputs": [
    {
     "name": "stdout",
     "output_type": "stream",
     "text": [
      "[[0.4265359 ]\n",
      " [0.4265359 ]\n",
      " [0.4265359 ]\n",
      " [0.4265359 ]\n",
      " [0.4265359 ]\n",
      " [0.5101799 ]\n",
      " [0.4265359 ]\n",
      " [0.4265359 ]\n",
      " [0.4265359 ]\n",
      " [0.43965656]\n",
      " [0.4265359 ]\n",
      " [0.4265359 ]\n",
      " [0.4265359 ]\n",
      " [0.4265359 ]\n",
      " [0.4265359 ]\n",
      " [0.4265359 ]\n",
      " [0.43227217]\n",
      " [0.4265359 ]\n",
      " [0.7866649 ]\n",
      " [0.7402863 ]]\n"
     ]
    }
   ],
   "source": [
    "print(y_prediction[0:20])"
   ]
  },
  {
   "cell_type": "code",
   "execution_count": 42,
   "id": "96037f99-6aae-4b46-9b68-3f12ec9a5935",
   "metadata": {},
   "outputs": [],
   "source": [
    "y_prediction = (y_prediction >= 0.5).astype(int)"
   ]
  },
  {
   "cell_type": "markdown",
   "id": "8a7adb9d",
   "metadata": {},
   "source": [
    "## Look at the Results"
   ]
  },
  {
   "cell_type": "code",
   "execution_count": 43,
   "id": "7629a039-d918-4d86-af68-5ebfe907e387",
   "metadata": {},
   "outputs": [
    {
     "name": "stdout",
     "output_type": "stream",
     "text": [
      "(30,)\n",
      "(30, 1)\n"
     ]
    }
   ],
   "source": [
    "print(y_val.shape)\n",
    "print(y_prediction.shape)"
   ]
  },
  {
   "cell_type": "code",
   "execution_count": 44,
   "id": "48e6c404-1323-47cf-8fb1-22e740c3f2d6",
   "metadata": {},
   "outputs": [],
   "source": [
    "y_prediction = y_prediction.reshape(-1)\n",
    "fig_newton = np.array([y_val,y_prediction])"
   ]
  },
  {
   "cell_type": "code",
   "execution_count": 54,
   "id": "8007da15-042e-4fea-8618-60a32b735270",
   "metadata": {},
   "outputs": [
    {
     "data": {
      "image/png": "[encoded data removed]",
      "text/plain": [
       "<Figure size 1500x600 with 2 Axes>"
      ]
     },
     "metadata": {},
     "output_type": "display_data"
    }
   ],
   "source": [
    "x_titles = ['Validation', 'Prediction']\n",
    "\n",
    "fig, ax=plt.subplots(1,2,  figsize=(15,6),  sharey=True)\n",
    "\n",
    "for i in range(2):\n",
    "    y=fig_newton[i,0:200]\n",
    "    x=x_val[0:200]\n",
    "\n",
    "    pos = y == 1\n",
    "    neg = y == 0\n",
    "    pos = pos.reshape(-1,)\n",
    "    neg = neg.reshape(-1,)\n",
    "    #ax.legend(loc=loc)\n",
    "\n",
    "    ax[i].scatter(x[pos, 0], x[pos, 1], marker='o', s=60, label='pos_label')\n",
    "    ax[i].scatter(x[neg, 0], x[neg, 1], marker='x', s=60, label='neg_label', lw=3)\n",
    "    ax[i].set_xlabel(x_features[i])\n",
    "    ax[i].set_title(x_titles[i])\n",
    "ax[0].set_ylabel(x_features[i+1])\n",
    "plt.show()"
   ]
  },
  {
   "cell_type": "markdown",
   "id": "29079804-d207-47d5-9542-cde3d8079d08",
   "metadata": {},
   "source": [
    "## Confusion Matrix"
   ]
  },
  {
   "cell_type": "code",
   "execution_count": 46,
   "id": "f8e1fc6d",
   "metadata": {},
   "outputs": [],
   "source": [
    "cm = confusion_matrix(y_val, y_prediction)"
   ]
  },
  {
   "cell_type": "code",
   "execution_count": 47,
   "id": "c1e5ac66",
   "metadata": {},
   "outputs": [
    {
     "data": {
      "image/png": "[encoded data removed]",
      "text/plain": [
       "<Figure size 800x600 with 1 Axes>"
      ]
     },
     "metadata": {},
     "output_type": "display_data"
    }
   ],
   "source": [
    "plt.figure(figsize=(8, 6))\n",
    "sns.heatmap(cm, annot=True, fmt=\"d\", cmap=\"flare\", cbar=False)\n",
    "plt.xlabel(\"Predicted Labels\")\n",
    "plt.ylabel(\"True Labels\")\n",
    "plt.title(\"Confusion Matrix\")\n",
    "plt.show()"
   ]
  },
  {
   "cell_type": "markdown",
   "id": "96b8e8a7-9c76-4044-b8a1-ce0448fb8fd0",
   "metadata": {},
   "source": [
    "## Calculate the F1 score"
   ]
  },
  {
   "cell_type": "code",
   "execution_count": 48,
   "id": "c4f82a63-e564-4b25-83a5-438bc9730dba",
   "metadata": {},
   "outputs": [],
   "source": [
    "from sklearn.metrics import classification_report\n",
    "class_labels = [\"Other Iris\", \"Iris Versicolour\"]"
   ]
  },
  {
   "cell_type": "code",
   "execution_count": 49,
   "id": "62a9058a-006e-4787-af03-28be000eb803",
   "metadata": {},
   "outputs": [
    {
     "name": "stdout",
     "output_type": "stream",
     "text": [
      "                  precision    recall  f1-score   support\n",
      "\n",
      "      Other Iris       0.83      0.95      0.89        21\n",
      "Iris Versicolour       0.83      0.56      0.67         9\n",
      "\n",
      "        accuracy                           0.83        30\n",
      "       macro avg       0.83      0.75      0.78        30\n",
      "    weighted avg       0.83      0.83      0.82        30\n",
      "\n"
     ]
    }
   ],
   "source": [
    "print(classification_report(y_val, y_prediction, target_names=class_labels, zero_division=0))"
   ]
  },
  {
   "cell_type": "markdown",
   "id": "3f630e19",
   "metadata": {},
   "source": [
    "## Calculate the accuracy"
   ]
  },
  {
   "cell_type": "code",
   "execution_count": 50,
   "id": "f1d8b5b2",
   "metadata": {},
   "outputs": [
    {
     "name": "stdout",
     "output_type": "stream",
     "text": [
      "Percentage of matching elements: 83.33333333333334%\n"
     ]
    }
   ],
   "source": [
    "matches = y_val == y_prediction  # This returns a boolean array\n",
    "\n",
    "# Calculate the percentage of matches\n",
    "percentage_match = np.sum(matches) / len(y_val) * 100\n",
    "\n",
    "print(f\"Percentage of matching elements: {percentage_match}%\")"
   ]
  },
  {
   "cell_type": "markdown",
   "id": "1a6bd6e8-16e3-4213-8386-8769087aa9cd",
   "metadata": {},
   "source": [
    "## Conclusions\n",
    "\n",
    "While this data is better suited for a multiclass classifcation model, it also works really well as a binary classification model where 1 represents a certain type of iris and 0 represents the absence of that type of iris. "
   ]
  }
 ],
 "metadata": {
  "kernelspec": {
   "display_name": "Python (EnvZero)",
   "language": "python",
   "name": "envzero"
  },
  "language_info": {
   "codemirror_mode": {
    "name": "ipython",
    "version": 3
   },
   "file_extension": ".py",
   "mimetype": "text/x-python",
   "name": "python",
   "nbconvert_exporter": "python",
   "pygments_lexer": "ipython3",
   "version": "3.12.3"
  }
 },
 "nbformat": 4,
 "nbformat_minor": 5
}
