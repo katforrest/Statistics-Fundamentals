{
 "cells": [
  {
   "cell_type": "code",
   "execution_count": 1,
   "id": "39827dd9",
   "metadata": {},
   "outputs": [],
   "source": [
    "import pandas as pd\n",
    "import numpy as np\n",
    "import matplotlib.pyplot as plt"
   ]
  },
  {
   "cell_type": "code",
   "execution_count": 37,
   "id": "3c152dfa",
   "metadata": {},
   "outputs": [
    {
     "name": "stdout",
     "output_type": "stream",
     "text": [
      "    Color Intensity  Spots  Plant Health\n",
      "0         97.861832      0             1\n",
      "1         96.366280      0             1\n",
      "2         94.466888      0             1\n",
      "3         92.559662      2             1\n",
      "4         89.177300      2             1\n",
      "5         87.001213      2             1\n",
      "6         83.261986      2             1\n",
      "7         79.915855      2             1\n",
      "8         79.172501      2             1\n",
      "9         78.052917      2             1\n",
      "10        77.815674      2             1\n",
      "11        71.518936      3             1\n",
      "12        64.589409      3             1\n",
      "13        63.992104      3             1\n",
      "14        60.276337      3             1\n",
      "15        56.804455      4             1\n",
      "16        54.881351      4             1\n",
      "17        54.488319      4             1\n",
      "18        52.889492      4             1\n",
      "19        52.184834      4             1\n",
      "20        46.147938      4             1\n",
      "21        43.758720      4             1\n",
      "22        42.365479      4             1\n",
      "23        41.466194      5             1\n",
      "24        38.344151      6             1\n",
      "25        14.335329      7             0\n",
      "26        11.827442      8             0\n",
      "27         8.712930      8             0\n",
      "28         7.103606      9             0\n",
      "29         2.021840     10             0\n"
     ]
    }
   ],
   "source": [
    "df = pd.read_csv(\"./data/plant_small.csv\")\n",
    "print(df)"
   ]
  },
  {
   "cell_type": "code",
   "execution_count": 38,
   "id": "bc2955f1",
   "metadata": {},
   "outputs": [
    {
     "name": "stdout",
     "output_type": "stream",
     "text": [
      "(30, 2)\n",
      "(30,)\n"
     ]
    }
   ],
   "source": [
    "feature_count = df.shape[1] - 1\n",
    "rows_list = []\n",
    "for i in range(len(df)):\n",
    "    new_row = np.array(df.iloc[i,0:feature_count])\n",
    "    rows_list.append(new_row)\n",
    "    \n",
    "x = np.array(rows_list)\n",
    "y = np.array(df.iloc[:,feature_count])\n",
    "print(x.shape)\n",
    "print(y.shape)"
   ]
  },
  {
   "cell_type": "code",
   "execution_count": 39,
   "id": "9e6ae972",
   "metadata": {},
   "outputs": [
    {
     "name": "stdout",
     "output_type": "stream",
     "text": [
      "The training data has 24 observations.\n",
      "The validation data has 6 observations.\n"
     ]
    }
   ],
   "source": [
    "n = len(y)\n",
    "randy = np.random.default_rng()\n",
    "idx = np.arange(n)\n",
    "randy.shuffle(idx)\n",
    "\n",
    "## Splits the data into 80% training and 20% validation\n",
    "train_idx = idx[:int(n*.8)]\n",
    "val_idx = idx[int(n*.8):]\n",
    "\n",
    "x_train, y_train = x[train_idx], y[train_idx]\n",
    "x_val, y_val = x[val_idx], y[val_idx]\n",
    "\n",
    "training_lenth = len(x_train)\n",
    "validation_length = len(x_val)\n",
    "print(f\"The training data has {training_lenth} observations.\")\n",
    "print(f\"The validation data has {validation_length} observations.\")"
   ]
  },
  {
   "cell_type": "code",
   "execution_count": 40,
   "id": "ca842b56",
   "metadata": {},
   "outputs": [
    {
     "data": {
      "text/plain": [
       "array([ 2.,  2.,  0.,  0.,  4.,  3.,  6.,  4.,  9.,  4.,  4.,  0.,  8.,\n",
       "        3.,  2.,  4.,  2.,  2.,  8.,  4.,  3.,  2.,  2., 10.])"
      ]
     },
     "execution_count": 40,
     "metadata": {},
     "output_type": "execute_result"
    }
   ],
   "source": [
    "x_train[:,1] "
   ]
  },
  {
   "cell_type": "code",
   "execution_count": 41,
   "id": "038d2380",
   "metadata": {},
   "outputs": [
    {
     "name": "stdout",
     "output_type": "stream",
     "text": [
      "[ True  True  True  True  True  True  True  True False  True  True  True\n",
      " False  True  True  True  True  True False  True  True  True  True False]\n"
     ]
    }
   ],
   "source": [
    "pos = y_train == 1 ##y_train = 1 is Ture\n",
    "neg = y_train == 0\n",
    "print(pos)"
   ]
  },
  {
   "cell_type": "code",
   "execution_count": 42,
   "id": "e1e1316d",
   "metadata": {},
   "outputs": [
    {
     "data": {
      "text/plain": [
       "array([2., 2., 0., 0., 4., 3., 6., 4., 4., 4., 0., 3., 2., 4., 2., 2., 4.,\n",
       "       3., 2., 2.])"
      ]
     },
     "execution_count": 42,
     "metadata": {},
     "output_type": "execute_result"
    }
   ],
   "source": [
    "x_train[pos,1]"
   ]
  },
  {
   "cell_type": "code",
   "execution_count": 47,
   "id": "1fafafd3",
   "metadata": {},
   "outputs": [
    {
     "data": {
      "image/png": "[encoded data removed]",
      "text/plain": [
       "<Figure size 576x360 with 1 Axes>"
      ]
     },
     "metadata": {
      "needs_background": "light"
     },
     "output_type": "display_data"
    }
   ],
   "source": [
    "fig, ax = plt.subplots(figsize = (8,5))\n",
    "\n",
    "ax.scatter(x_train[pos, 0],y_train[pos], marker = 'x', s=80, label=\"healthy\")\n",
    "ax.scatter(x_train[neg, 0],y_train[neg], marker = 'o', s=80, label = \"not healthy\")\n",
    "\n",
    "\n",
    "ax.set_ylabel('y', fontsize=12)\n",
    "ax.set_xlabel('x', fontsize=12)\n",
    "ax.set_title('one variable plot')\n",
    "ax.legend()\n",
    "\n",
    "plt.show()"
   ]
  },
  {
   "cell_type": "code",
   "execution_count": 44,
   "id": "a58e361b",
   "metadata": {},
   "outputs": [
    {
     "data": {
      "text/plain": [
       "<matplotlib.collections.PathCollection at 0x232a6e93100>"
      ]
     },
     "execution_count": 44,
     "metadata": {},
     "output_type": "execute_result"
    },
    {
     "data": {
      "image/png": "[encoded data removed]",
      "text/plain": [
       "<Figure size 432x288 with 1 Axes>"
      ]
     },
     "metadata": {
      "needs_background": "light"
     },
     "output_type": "display_data"
    }
   ],
   "source": [
    "plt.scatter(x_train[:,0],y_train)"
   ]
  },
  {
   "cell_type": "code",
   "execution_count": 115,
   "id": "9c99d18e",
   "metadata": {},
   "outputs": [],
   "source": [
    "def linear_function(w, x, b):\n",
    "    y = (w * x) + b\n",
    "    return y\n",
    "\n",
    "def sigmoid(z):\n",
    "    return 1/(1 + np.exp((-z*.5)+15)) ## Adjust this function to get a line to fit the data, this is the log regression"
   ]
  },
  {
   "cell_type": "code",
   "execution_count": 116,
   "id": "390091d9",
   "metadata": {},
   "outputs": [],
   "source": [
    "z = np.linspace(-10, 100, 100)"
   ]
  },
  {
   "cell_type": "code",
   "execution_count": 117,
   "id": "7c53b206",
   "metadata": {},
   "outputs": [
    {
     "data": {
      "image/png": "[encoded data removed]",
      "text/plain": [
       "<Figure size 576x360 with 1 Axes>"
      ]
     },
     "metadata": {
      "needs_background": "light"
     },
     "output_type": "display_data"
    }
   ],
   "source": [
    "y = sigmoid(z)\n",
    "\n",
    "fig, ax = plt.subplots(figsize = (8,5))\n",
    "\n",
    "ax.scatter(x_train[pos, 0],y_train[pos], marker = 'x', s=80, label=\"healthy\")\n",
    "ax.scatter(x_train[neg, 0],y_train[neg], marker = 'o', s=80, label = \"not healthy\")\n",
    "plt.plot(z, y)\n",
    "\n",
    "ax.set_ylabel('y', fontsize=12)\n",
    "ax.set_xlabel('x', fontsize=12)\n",
    "ax.set_title('one variable plot')\n",
    "ax.legend()\n",
    "\n",
    "plt.show()"
   ]
  },
  {
   "cell_type": "code",
   "execution_count": null,
   "id": "85b79a50",
   "metadata": {},
   "outputs": [],
   "source": []
  },
  {
   "cell_type": "code",
   "execution_count": 152,
   "id": "4924379b",
   "metadata": {},
   "outputs": [],
   "source": [
    "def sigmoid(z):\n",
    "    return 1/(1 + np.exp((-z*.2)+5))"
   ]
  },
  {
   "cell_type": "code",
   "execution_count": 179,
   "id": "49c05613",
   "metadata": {},
   "outputs": [
    {
     "data": {
      "image/png": "[encoded data removed]",
      "text/plain": [
       "<Figure size 576x360 with 1 Axes>"
      ]
     },
     "metadata": {
      "needs_background": "light"
     },
     "output_type": "display_data"
    }
   ],
   "source": [
    "z = np.linspace(-10, 100, 100)\n",
    "z2 = np.array([20,25])\n",
    "y = sigmoid(z)\n",
    "line = (.2 *-z2) + 5\n",
    "\n",
    "fig, ax = plt.subplots(figsize = (8,5))\n",
    "\n",
    "ax.scatter(x_train[pos, 0],y_train[pos], marker = 'x', s=80, label=\"healthy\")\n",
    "ax.scatter(x_train[neg, 0],y_train[neg], marker = 'o', s=80, label = \"not healthy\")\n",
    "plt.plot(z, y)\n",
    "plt.plot(z2, line, 'r')\n",
    "\n",
    "ax.set_ylabel('y', fontsize=12)\n",
    "ax.set_xlabel('x', fontsize=12)\n",
    "ax.set_title('one variable plot')\n",
    "ax.legend()\n",
    "\n",
    "plt.show()"
   ]
  },
  {
   "cell_type": "code",
   "execution_count": 161,
   "id": "5ca5bdf2",
   "metadata": {},
   "outputs": [
    {
     "data": {
      "text/plain": [
       "3.048587351573745"
      ]
     },
     "execution_count": 161,
     "metadata": {},
     "output_type": "execute_result"
    }
   ],
   "source": [
    "loss = -(np.log(1-pred1))\n",
    "loss"
   ]
  },
  {
   "cell_type": "code",
   "execution_count": 159,
   "id": "eb9dfb20",
   "metadata": {},
   "outputs": [
    {
     "data": {
      "text/plain": [
       "0.9525741268224334"
      ]
     },
     "execution_count": 159,
     "metadata": {},
     "output_type": "execute_result"
    }
   ],
   "source": [
    "pred1 = sigmoid(40)\n",
    "pred1"
   ]
  },
  {
   "cell_type": "code",
   "execution_count": null,
   "id": "66ec48b1",
   "metadata": {},
   "outputs": [],
   "source": []
  }
 ],
 "metadata": {
  "kernelspec": {
   "display_name": "Python 3 (ipykernel)",
   "language": "python",
   "name": "python3"
  },
  "language_info": {
   "codemirror_mode": {
    "name": "ipython",
    "version": 3
   },
   "file_extension": ".py",
   "mimetype": "text/x-python",
   "name": "python",
   "nbconvert_exporter": "python",
   "pygments_lexer": "ipython3",
   "version": "3.9.12"
  }
 },
 "nbformat": 4,
 "nbformat_minor": 5
}
