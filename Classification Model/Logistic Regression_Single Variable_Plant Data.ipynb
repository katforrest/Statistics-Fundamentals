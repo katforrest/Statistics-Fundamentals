{
 "cells": [
  {
   "cell_type": "code",
   "execution_count": 1,
   "id": "39827dd9",
   "metadata": {},
   "outputs": [],
   "source": [
    "import pandas as pd\n",
    "import numpy as np\n",
    "import seaborn as sns\n",
    "import matplotlib.pyplot as plt"
   ]
  },
  {
   "cell_type": "code",
   "execution_count": 2,
   "id": "3c152dfa",
   "metadata": {},
   "outputs": [
    {
     "name": "stdout",
     "output_type": "stream",
     "text": [
      "    Color Intensity  Plant Health\n",
      "0         97.861832             1\n",
      "1         96.366280             1\n",
      "2         94.466888             1\n",
      "3         92.559662             1\n",
      "4         89.177300             1\n",
      "5         87.001213             1\n",
      "6         83.261986             1\n",
      "7         79.915855             1\n",
      "8         79.172501             1\n",
      "9         78.052917             1\n",
      "10        77.815674             1\n",
      "11        71.518936             1\n",
      "12        64.589409             1\n",
      "13        63.992104             1\n",
      "14        60.276337             1\n",
      "15        56.804455             1\n",
      "16        54.881351             1\n",
      "17        54.488319             1\n",
      "18        52.889492             1\n",
      "19        52.184834             1\n",
      "20        46.147938             1\n",
      "21        43.758720             1\n",
      "22        42.365479             1\n",
      "23        41.466194             1\n",
      "24        38.344151             1\n",
      "25        14.335329             0\n",
      "26        11.827442             0\n",
      "27         8.712930             0\n",
      "28         7.103606             0\n",
      "29         2.021840             0\n"
     ]
    }
   ],
   "source": [
    "df = pd.read_csv(\"./data/plant_small_1D.csv\")\n",
    "print(df)"
   ]
  },
  {
   "cell_type": "code",
   "execution_count": 3,
   "id": "bc2955f1",
   "metadata": {},
   "outputs": [
    {
     "name": "stdout",
     "output_type": "stream",
     "text": [
      "(30,)\n",
      "(30,)\n"
     ]
    }
   ],
   "source": [
    "feature_count = df.shape[1] - 1\n",
    "rows_list = []\n",
    "for i in range(len(df)):\n",
    "    new_row = np.array(df.iloc[i,0])\n",
    "    rows_list.append(new_row)\n",
    "    \n",
    "x = np.array(rows_list)\n",
    "y = np.array(df.iloc[:,feature_count])\n",
    "print(x.shape)\n",
    "print(y.shape)"
   ]
  },
  {
   "cell_type": "code",
   "execution_count": 4,
   "id": "9e6ae972",
   "metadata": {},
   "outputs": [
    {
     "name": "stdout",
     "output_type": "stream",
     "text": [
      "The training data has 24 observations.\n",
      "The validation data has 6 observations.\n"
     ]
    }
   ],
   "source": [
    "n = len(y)\n",
    "randy = np.random.default_rng()\n",
    "idx = np.arange(n)\n",
    "randy.shuffle(idx)\n",
    "\n",
    "## Splits the data into 80% training and 20% validation\n",
    "train_idx = idx[:int(n*.8)]\n",
    "val_idx = idx[int(n*.8):]\n",
    "\n",
    "x_train, y_train = x[train_idx], y[train_idx]\n",
    "x_val, y_val = x[val_idx], y[val_idx]\n",
    "\n",
    "training_lenth = len(x_train)\n",
    "validation_length = len(x_val)\n",
    "print(f\"The training data has {training_lenth} observations.\")\n",
    "print(f\"The validation data has {validation_length} observations.\")"
   ]
  },
  {
   "cell_type": "code",
   "execution_count": 5,
   "id": "038d2380",
   "metadata": {},
   "outputs": [
    {
     "name": "stdout",
     "output_type": "stream",
     "text": [
      "[False False  True  True  True False  True  True False  True  True  True\n",
      "  True  True  True False  True  True  True  True  True  True  True  True]\n"
     ]
    }
   ],
   "source": [
    "pos = y_train == 1 ##y_train = 1 is Ture\n",
    "neg = y_train == 0\n",
    "print(pos)"
   ]
  },
  {
   "cell_type": "code",
   "execution_count": 6,
   "id": "e1e1316d",
   "metadata": {},
   "outputs": [
    {
     "data": {
      "text/plain": [
       "array([96.3662796 , 83.26198578, 92.55966187, 38.34415054, 54.88135147,\n",
       "       94.46688843, 89.1772995 , 43.7587204 , 60.27633667, 79.17250061,\n",
       "       79.91585541, 71.51893616, 87.00121307, 42.36547852, 56.8044548 ,\n",
       "       77.81567383, 52.88949203, 64.58940887, 97.86183167])"
      ]
     },
     "execution_count": 6,
     "metadata": {},
     "output_type": "execute_result"
    }
   ],
   "source": [
    "x_train[pos]"
   ]
  },
  {
   "cell_type": "code",
   "execution_count": 7,
   "id": "3acea297",
   "metadata": {},
   "outputs": [
    {
     "data": {
      "text/html": [
       "<svg  width=\"330\" height=\"55\"><rect x=\"0\" y=\"0\" width=\"55\" height=\"55\" style=\"fill:#e98d6b;stroke-width:2;stroke:rgb(255,255,255)\"/><rect x=\"55\" y=\"0\" width=\"55\" height=\"55\" style=\"fill:#e3685c;stroke-width:2;stroke:rgb(255,255,255)\"/><rect x=\"110\" y=\"0\" width=\"55\" height=\"55\" style=\"fill:#d14a61;stroke-width:2;stroke:rgb(255,255,255)\"/><rect x=\"165\" y=\"0\" width=\"55\" height=\"55\" style=\"fill:#b13c6c;stroke-width:2;stroke:rgb(255,255,255)\"/><rect x=\"220\" y=\"0\" width=\"55\" height=\"55\" style=\"fill:#8f3371;stroke-width:2;stroke:rgb(255,255,255)\"/><rect x=\"275\" y=\"0\" width=\"55\" height=\"55\" style=\"fill:#6c2b6d;stroke-width:2;stroke:rgb(255,255,255)\"/></svg>"
      ],
      "text/plain": [
       "[(0.9155979, 0.55210684, 0.42070204),\n",
       " (0.888292, 0.40830288, 0.36223756),\n",
       " (0.81942908, 0.28911553, 0.38102921),\n",
       " (0.69226314, 0.23413578, 0.42480327),\n",
       " (0.56041794, 0.19845221, 0.44207535),\n",
       " (0.42355299, 0.16934709, 0.42581586)]"
      ]
     },
     "execution_count": 7,
     "metadata": {},
     "output_type": "execute_result"
    }
   ],
   "source": [
    "sns.set_theme(palette=\"flare\")\n",
    "sns.color_palette(\"flare\")"
   ]
  },
  {
   "cell_type": "code",
   "execution_count": 8,
   "id": "1fafafd3",
   "metadata": {},
   "outputs": [
    {
     "data": {
      "image/png": "[encoded data removed]",
      "text/plain": [
       "<Figure size 576x360 with 1 Axes>"
      ]
     },
     "metadata": {},
     "output_type": "display_data"
    }
   ],
   "source": [
    "fig, ax = plt.subplots(figsize = (8,5))\n",
    "\n",
    "ax.scatter(x_train[pos],y_train[pos], marker = 'x', s=100, label=\"healthy\")\n",
    "ax.scatter(x_train[neg],y_train[neg], marker = 'o', s=100, label = \"not healthy\")\n",
    "\n",
    "ax.set_ylabel('Plant Health', fontsize=12)\n",
    "ax.set_xlabel('Color Intensity', fontsize=12)\n",
    "ax.set_title('one variable plot')\n",
    "ax.legend()\n",
    "\n",
    "plt.show()"
   ]
  },
  {
   "cell_type": "markdown",
   "id": "b51518e6",
   "metadata": {},
   "source": [
    "## Select a value for w and b"
   ]
  },
  {
   "cell_type": "code",
   "execution_count": 14,
   "id": "b8694e32",
   "metadata": {},
   "outputs": [],
   "source": [
    "## Set w, b, alpha\n",
    "w = .7\n",
    "b = -10\n",
    "alpha = .1\n",
    "iterations = 200\n",
    "columns = ['iteration', 'J', 'w', 'b']\n",
    "results = pd.DataFrame(columns = columns)"
   ]
  },
  {
   "cell_type": "code",
   "execution_count": 10,
   "id": "a2714a62",
   "metadata": {},
   "outputs": [],
   "source": [
    "## Plot the data against the model using the initial values of w and b:\n",
    "x_line = np.linspace(0, 100, 50)\n",
    "z=(w*x_line)+b\n",
    "y_line = 1/(1+np.exp(-z))"
   ]
  },
  {
   "cell_type": "code",
   "execution_count": 11,
   "id": "b47e8875",
   "metadata": {},
   "outputs": [
    {
     "data": {
      "image/png": "[encoded data removed]",
      "text/plain": [
       "<Figure size 576x360 with 1 Axes>"
      ]
     },
     "metadata": {},
     "output_type": "display_data"
    }
   ],
   "source": [
    "fig, ax = plt.subplots(figsize = (8,5))\n",
    "\n",
    "ax.scatter(x_train[pos],y_train[pos], marker = 'x', s=100, label=\"healthy\")\n",
    "ax.scatter(x_train[neg],y_train[neg], marker = 'o', s=100, label = \"not healthy\")\n",
    "plt.plot(x_line, y_line)\n",
    "\n",
    "\n",
    "ax.set_ylabel('Plant Health', fontsize=12)\n",
    "ax.set_xlabel('Color Intensity', fontsize=12)\n",
    "ax.set_title('The Model using initial values of W and B')\n",
    "ax.legend()\n",
    "\n",
    "plt.show()"
   ]
  },
  {
   "cell_type": "markdown",
   "id": "76fdc0bc",
   "metadata": {},
   "source": [
    "## Running Gradient Descent to define a model"
   ]
  },
  {
   "cell_type": "code",
   "execution_count": 12,
   "id": "a030df09",
   "metadata": {},
   "outputs": [],
   "source": [
    "def compute_cost(x, y, w, b):\n",
    "    \n",
    "    s = 0\n",
    "    for i in range(len(x)):\n",
    "        xi = x[i]\n",
    "        yi = y[i]\n",
    "        z = (w * xi) + b\n",
    "        yhat = 1/(1 + np.exp(-z))\n",
    "        loss = (-yi)*(np.log(yhat))-(1-yi)*(np.log(1-yhat))\n",
    "        s = s + loss\n",
    "    \n",
    "    J = (1/len(x)) * s\n",
    "    \n",
    "    return J, w, b\n",
    "\n",
    "def add_results(J, w, b, iteration):\n",
    "    new_row = {'iteration': iteration, 'J': J, 'w': w, 'b': b}\n",
    "    results.loc[len(results)] = new_row   \n",
    "    \n",
    "def update_w_b(x, y, w_init, b_init, alpha):\n",
    "\n",
    "    s = 0\n",
    "    for i in range(len(x)):\n",
    "        xi = x[i]\n",
    "        yi = y[i]\n",
    "        z = (w_init*xi) + b_init\n",
    "        yhat = 1/(1 + np.exp(-z))\n",
    "        funct = (yhat - yi)*xi\n",
    "        s = s + funct\n",
    "    \n",
    "    w = w_init - (alpha * (1/len(x)) * s)\n",
    "        \n",
    "    s = 0\n",
    "    for i in range(len(x)):\n",
    "        xi = x[i]\n",
    "        yi = y[i]\n",
    "        z = (w_init*xi) + b_init\n",
    "        yhat = 1/(1 + np.exp(-z))\n",
    "        funct = (yhat - yi)\n",
    "        s = s + funct\n",
    "        \n",
    "    b = b_init - (alpha * (1/len(x)) * s)\n",
    "    \n",
    "    return w, b\n",
    "\n",
    "def gradient_descent(x, y, w, b, iterations):\n",
    "    \n",
    "    for i in range(iterations):\n",
    "        J, w, b = compute_cost(x, y, w, b)\n",
    "        add_results(J, w, b, i)\n",
    "        \n",
    "        w, b = update_w_b(x, y, w, b, alpha)\n",
    "        \n",
    "    return results"
   ]
  },
  {
   "cell_type": "code",
   "execution_count": 15,
   "id": "a9c30c9b",
   "metadata": {},
   "outputs": [
    {
     "name": "stderr",
     "output_type": "stream",
     "text": [
      "C:\\Users\\kasey\\AppData\\Local\\Temp\\ipykernel_13104\\3509220294.py:9: RuntimeWarning: divide by zero encountered in log\n",
      "  loss = (-yi)*(np.log(yhat))-(1-yi)*(np.log(1-yhat))\n",
      "C:\\Users\\kasey\\AppData\\Local\\Temp\\ipykernel_13104\\3509220294.py:9: RuntimeWarning: invalid value encountered in multiply\n",
      "  loss = (-yi)*(np.log(yhat))-(1-yi)*(np.log(1-yhat))\n",
      "C:\\Users\\kasey\\AppData\\Local\\Temp\\ipykernel_13104\\3509220294.py:9: RuntimeWarning: divide by zero encountered in log\n",
      "  loss = (-yi)*(np.log(yhat))-(1-yi)*(np.log(1-yhat))\n",
      "C:\\Users\\kasey\\AppData\\Local\\Temp\\ipykernel_13104\\3509220294.py:9: RuntimeWarning: invalid value encountered in multiply\n",
      "  loss = (-yi)*(np.log(yhat))-(1-yi)*(np.log(1-yhat))\n",
      "C:\\Users\\kasey\\AppData\\Local\\Temp\\ipykernel_13104\\3509220294.py:9: RuntimeWarning: divide by zero encountered in log\n",
      "  loss = (-yi)*(np.log(yhat))-(1-yi)*(np.log(1-yhat))\n",
      "C:\\Users\\kasey\\AppData\\Local\\Temp\\ipykernel_13104\\3509220294.py:9: RuntimeWarning: invalid value encountered in multiply\n",
      "  loss = (-yi)*(np.log(yhat))-(1-yi)*(np.log(1-yhat))\n",
      "C:\\Users\\kasey\\AppData\\Local\\Temp\\ipykernel_13104\\3509220294.py:9: RuntimeWarning: divide by zero encountered in log\n",
      "  loss = (-yi)*(np.log(yhat))-(1-yi)*(np.log(1-yhat))\n",
      "C:\\Users\\kasey\\AppData\\Local\\Temp\\ipykernel_13104\\3509220294.py:9: RuntimeWarning: invalid value encountered in multiply\n",
      "  loss = (-yi)*(np.log(yhat))-(1-yi)*(np.log(1-yhat))\n",
      "C:\\Users\\kasey\\AppData\\Local\\Temp\\ipykernel_13104\\3509220294.py:9: RuntimeWarning: divide by zero encountered in log\n",
      "  loss = (-yi)*(np.log(yhat))-(1-yi)*(np.log(1-yhat))\n",
      "C:\\Users\\kasey\\AppData\\Local\\Temp\\ipykernel_13104\\3509220294.py:9: RuntimeWarning: invalid value encountered in multiply\n",
      "  loss = (-yi)*(np.log(yhat))-(1-yi)*(np.log(1-yhat))\n",
      "C:\\Users\\kasey\\AppData\\Local\\Temp\\ipykernel_13104\\3509220294.py:9: RuntimeWarning: divide by zero encountered in log\n",
      "  loss = (-yi)*(np.log(yhat))-(1-yi)*(np.log(1-yhat))\n",
      "C:\\Users\\kasey\\AppData\\Local\\Temp\\ipykernel_13104\\3509220294.py:9: RuntimeWarning: invalid value encountered in multiply\n",
      "  loss = (-yi)*(np.log(yhat))-(1-yi)*(np.log(1-yhat))\n",
      "C:\\Users\\kasey\\AppData\\Local\\Temp\\ipykernel_13104\\3509220294.py:9: RuntimeWarning: divide by zero encountered in log\n",
      "  loss = (-yi)*(np.log(yhat))-(1-yi)*(np.log(1-yhat))\n",
      "C:\\Users\\kasey\\AppData\\Local\\Temp\\ipykernel_13104\\3509220294.py:9: RuntimeWarning: invalid value encountered in multiply\n",
      "  loss = (-yi)*(np.log(yhat))-(1-yi)*(np.log(1-yhat))\n",
      "C:\\Users\\kasey\\AppData\\Local\\Temp\\ipykernel_13104\\3509220294.py:9: RuntimeWarning: divide by zero encountered in log\n",
      "  loss = (-yi)*(np.log(yhat))-(1-yi)*(np.log(1-yhat))\n",
      "C:\\Users\\kasey\\AppData\\Local\\Temp\\ipykernel_13104\\3509220294.py:9: RuntimeWarning: invalid value encountered in multiply\n",
      "  loss = (-yi)*(np.log(yhat))-(1-yi)*(np.log(1-yhat))\n",
      "C:\\Users\\kasey\\AppData\\Local\\Temp\\ipykernel_13104\\3509220294.py:9: RuntimeWarning: divide by zero encountered in log\n",
      "  loss = (-yi)*(np.log(yhat))-(1-yi)*(np.log(1-yhat))\n",
      "C:\\Users\\kasey\\AppData\\Local\\Temp\\ipykernel_13104\\3509220294.py:9: RuntimeWarning: invalid value encountered in multiply\n",
      "  loss = (-yi)*(np.log(yhat))-(1-yi)*(np.log(1-yhat))\n",
      "C:\\Users\\kasey\\AppData\\Local\\Temp\\ipykernel_13104\\3509220294.py:9: RuntimeWarning: divide by zero encountered in log\n",
      "  loss = (-yi)*(np.log(yhat))-(1-yi)*(np.log(1-yhat))\n",
      "C:\\Users\\kasey\\AppData\\Local\\Temp\\ipykernel_13104\\3509220294.py:9: RuntimeWarning: invalid value encountered in multiply\n",
      "  loss = (-yi)*(np.log(yhat))-(1-yi)*(np.log(1-yhat))\n",
      "C:\\Users\\kasey\\AppData\\Local\\Temp\\ipykernel_13104\\3509220294.py:9: RuntimeWarning: divide by zero encountered in log\n",
      "  loss = (-yi)*(np.log(yhat))-(1-yi)*(np.log(1-yhat))\n",
      "C:\\Users\\kasey\\AppData\\Local\\Temp\\ipykernel_13104\\3509220294.py:9: RuntimeWarning: invalid value encountered in multiply\n",
      "  loss = (-yi)*(np.log(yhat))-(1-yi)*(np.log(1-yhat))\n",
      "C:\\Users\\kasey\\AppData\\Local\\Temp\\ipykernel_13104\\3509220294.py:9: RuntimeWarning: divide by zero encountered in log\n",
      "  loss = (-yi)*(np.log(yhat))-(1-yi)*(np.log(1-yhat))\n",
      "C:\\Users\\kasey\\AppData\\Local\\Temp\\ipykernel_13104\\3509220294.py:9: RuntimeWarning: invalid value encountered in multiply\n",
      "  loss = (-yi)*(np.log(yhat))-(1-yi)*(np.log(1-yhat))\n",
      "C:\\Users\\kasey\\AppData\\Local\\Temp\\ipykernel_13104\\3509220294.py:9: RuntimeWarning: divide by zero encountered in log\n",
      "  loss = (-yi)*(np.log(yhat))-(1-yi)*(np.log(1-yhat))\n",
      "C:\\Users\\kasey\\AppData\\Local\\Temp\\ipykernel_13104\\3509220294.py:9: RuntimeWarning: invalid value encountered in multiply\n",
      "  loss = (-yi)*(np.log(yhat))-(1-yi)*(np.log(1-yhat))\n",
      "C:\\Users\\kasey\\AppData\\Local\\Temp\\ipykernel_13104\\3509220294.py:9: RuntimeWarning: divide by zero encountered in log\n",
      "  loss = (-yi)*(np.log(yhat))-(1-yi)*(np.log(1-yhat))\n",
      "C:\\Users\\kasey\\AppData\\Local\\Temp\\ipykernel_13104\\3509220294.py:9: RuntimeWarning: invalid value encountered in multiply\n",
      "  loss = (-yi)*(np.log(yhat))-(1-yi)*(np.log(1-yhat))\n",
      "C:\\Users\\kasey\\AppData\\Local\\Temp\\ipykernel_13104\\3509220294.py:9: RuntimeWarning: divide by zero encountered in log\n",
      "  loss = (-yi)*(np.log(yhat))-(1-yi)*(np.log(1-yhat))\n",
      "C:\\Users\\kasey\\AppData\\Local\\Temp\\ipykernel_13104\\3509220294.py:9: RuntimeWarning: invalid value encountered in multiply\n",
      "  loss = (-yi)*(np.log(yhat))-(1-yi)*(np.log(1-yhat))\n",
      "C:\\Users\\kasey\\AppData\\Local\\Temp\\ipykernel_13104\\3509220294.py:9: RuntimeWarning: divide by zero encountered in log\n",
      "  loss = (-yi)*(np.log(yhat))-(1-yi)*(np.log(1-yhat))\n",
      "C:\\Users\\kasey\\AppData\\Local\\Temp\\ipykernel_13104\\3509220294.py:9: RuntimeWarning: invalid value encountered in multiply\n",
      "  loss = (-yi)*(np.log(yhat))-(1-yi)*(np.log(1-yhat))\n",
      "C:\\Users\\kasey\\AppData\\Local\\Temp\\ipykernel_13104\\3509220294.py:9: RuntimeWarning: divide by zero encountered in log\n",
      "  loss = (-yi)*(np.log(yhat))-(1-yi)*(np.log(1-yhat))\n",
      "C:\\Users\\kasey\\AppData\\Local\\Temp\\ipykernel_13104\\3509220294.py:9: RuntimeWarning: invalid value encountered in multiply\n",
      "  loss = (-yi)*(np.log(yhat))-(1-yi)*(np.log(1-yhat))\n",
      "C:\\Users\\kasey\\AppData\\Local\\Temp\\ipykernel_13104\\3509220294.py:9: RuntimeWarning: divide by zero encountered in log\n",
      "  loss = (-yi)*(np.log(yhat))-(1-yi)*(np.log(1-yhat))\n",
      "C:\\Users\\kasey\\AppData\\Local\\Temp\\ipykernel_13104\\3509220294.py:9: RuntimeWarning: invalid value encountered in multiply\n",
      "  loss = (-yi)*(np.log(yhat))-(1-yi)*(np.log(1-yhat))\n",
      "C:\\Users\\kasey\\AppData\\Local\\Temp\\ipykernel_13104\\3509220294.py:9: RuntimeWarning: divide by zero encountered in log\n",
      "  loss = (-yi)*(np.log(yhat))-(1-yi)*(np.log(1-yhat))\n",
      "C:\\Users\\kasey\\AppData\\Local\\Temp\\ipykernel_13104\\3509220294.py:9: RuntimeWarning: invalid value encountered in multiply\n",
      "  loss = (-yi)*(np.log(yhat))-(1-yi)*(np.log(1-yhat))\n",
      "C:\\Users\\kasey\\AppData\\Local\\Temp\\ipykernel_13104\\3509220294.py:9: RuntimeWarning: divide by zero encountered in log\n",
      "  loss = (-yi)*(np.log(yhat))-(1-yi)*(np.log(1-yhat))\n",
      "C:\\Users\\kasey\\AppData\\Local\\Temp\\ipykernel_13104\\3509220294.py:9: RuntimeWarning: invalid value encountered in multiply\n",
      "  loss = (-yi)*(np.log(yhat))-(1-yi)*(np.log(1-yhat))\n",
      "C:\\Users\\kasey\\AppData\\Local\\Temp\\ipykernel_13104\\3509220294.py:9: RuntimeWarning: divide by zero encountered in log\n",
      "  loss = (-yi)*(np.log(yhat))-(1-yi)*(np.log(1-yhat))\n",
      "C:\\Users\\kasey\\AppData\\Local\\Temp\\ipykernel_13104\\3509220294.py:9: RuntimeWarning: invalid value encountered in multiply\n",
      "  loss = (-yi)*(np.log(yhat))-(1-yi)*(np.log(1-yhat))\n",
      "C:\\Users\\kasey\\AppData\\Local\\Temp\\ipykernel_13104\\3509220294.py:9: RuntimeWarning: divide by zero encountered in log\n",
      "  loss = (-yi)*(np.log(yhat))-(1-yi)*(np.log(1-yhat))\n",
      "C:\\Users\\kasey\\AppData\\Local\\Temp\\ipykernel_13104\\3509220294.py:9: RuntimeWarning: invalid value encountered in multiply\n",
      "  loss = (-yi)*(np.log(yhat))-(1-yi)*(np.log(1-yhat))\n",
      "C:\\Users\\kasey\\AppData\\Local\\Temp\\ipykernel_13104\\3509220294.py:9: RuntimeWarning: divide by zero encountered in log\n",
      "  loss = (-yi)*(np.log(yhat))-(1-yi)*(np.log(1-yhat))\n",
      "C:\\Users\\kasey\\AppData\\Local\\Temp\\ipykernel_13104\\3509220294.py:9: RuntimeWarning: invalid value encountered in multiply\n",
      "  loss = (-yi)*(np.log(yhat))-(1-yi)*(np.log(1-yhat))\n"
     ]
    },
    {
     "data": {
      "text/html": [
       "<div>\n",
       "<style scoped>\n",
       "    .dataframe tbody tr th:only-of-type {\n",
       "        vertical-align: middle;\n",
       "    }\n",
       "\n",
       "    .dataframe tbody tr th {\n",
       "        vertical-align: top;\n",
       "    }\n",
       "\n",
       "    .dataframe thead th {\n",
       "        text-align: right;\n",
       "    }\n",
       "</style>\n",
       "<table border=\"1\" class=\"dataframe\">\n",
       "  <thead>\n",
       "    <tr style=\"text-align: right;\">\n",
       "      <th></th>\n",
       "      <th>iteration</th>\n",
       "      <th>J</th>\n",
       "      <th>w</th>\n",
       "      <th>b</th>\n",
       "    </tr>\n",
       "  </thead>\n",
       "  <tbody>\n",
       "    <tr>\n",
       "      <th>0</th>\n",
       "      <td>0</td>\n",
       "      <td>NaN</td>\n",
       "      <td>0.700000</td>\n",
       "      <td>-10.000000</td>\n",
       "    </tr>\n",
       "    <tr>\n",
       "      <th>1</th>\n",
       "      <td>1</td>\n",
       "      <td>NaN</td>\n",
       "      <td>0.661223</td>\n",
       "      <td>-10.002862</td>\n",
       "    </tr>\n",
       "    <tr>\n",
       "      <th>2</th>\n",
       "      <td>2</td>\n",
       "      <td>NaN</td>\n",
       "      <td>0.633351</td>\n",
       "      <td>-10.004915</td>\n",
       "    </tr>\n",
       "    <tr>\n",
       "      <th>3</th>\n",
       "      <td>3</td>\n",
       "      <td>NaN</td>\n",
       "      <td>0.612183</td>\n",
       "      <td>-10.006473</td>\n",
       "    </tr>\n",
       "    <tr>\n",
       "      <th>4</th>\n",
       "      <td>4</td>\n",
       "      <td>NaN</td>\n",
       "      <td>0.595322</td>\n",
       "      <td>-10.007716</td>\n",
       "    </tr>\n",
       "    <tr>\n",
       "      <th>...</th>\n",
       "      <td>...</td>\n",
       "      <td>...</td>\n",
       "      <td>...</td>\n",
       "      <td>...</td>\n",
       "    </tr>\n",
       "    <tr>\n",
       "      <th>195</th>\n",
       "      <td>195</td>\n",
       "      <td>0.001139</td>\n",
       "      <td>0.399082</td>\n",
       "      <td>-10.030151</td>\n",
       "    </tr>\n",
       "    <tr>\n",
       "      <th>196</th>\n",
       "      <td>196</td>\n",
       "      <td>0.001139</td>\n",
       "      <td>0.399084</td>\n",
       "      <td>-10.030208</td>\n",
       "    </tr>\n",
       "    <tr>\n",
       "      <th>197</th>\n",
       "      <td>197</td>\n",
       "      <td>0.001138</td>\n",
       "      <td>0.399086</td>\n",
       "      <td>-10.030265</td>\n",
       "    </tr>\n",
       "    <tr>\n",
       "      <th>198</th>\n",
       "      <td>198</td>\n",
       "      <td>0.001138</td>\n",
       "      <td>0.399088</td>\n",
       "      <td>-10.030323</td>\n",
       "    </tr>\n",
       "    <tr>\n",
       "      <th>199</th>\n",
       "      <td>199</td>\n",
       "      <td>0.001138</td>\n",
       "      <td>0.399089</td>\n",
       "      <td>-10.030380</td>\n",
       "    </tr>\n",
       "  </tbody>\n",
       "</table>\n",
       "<p>200 rows × 4 columns</p>\n",
       "</div>"
      ],
      "text/plain": [
       "     iteration         J         w          b\n",
       "0            0       NaN  0.700000 -10.000000\n",
       "1            1       NaN  0.661223 -10.002862\n",
       "2            2       NaN  0.633351 -10.004915\n",
       "3            3       NaN  0.612183 -10.006473\n",
       "4            4       NaN  0.595322 -10.007716\n",
       "..         ...       ...       ...        ...\n",
       "195        195  0.001139  0.399082 -10.030151\n",
       "196        196  0.001139  0.399084 -10.030208\n",
       "197        197  0.001138  0.399086 -10.030265\n",
       "198        198  0.001138  0.399088 -10.030323\n",
       "199        199  0.001138  0.399089 -10.030380\n",
       "\n",
       "[200 rows x 4 columns]"
      ]
     },
     "execution_count": 15,
     "metadata": {},
     "output_type": "execute_result"
    }
   ],
   "source": [
    "gradient_descent(x_train, y_train, w, b, iterations)"
   ]
  },
  {
   "cell_type": "markdown",
   "id": "638b5dd9",
   "metadata": {},
   "source": [
    "## Plot the model"
   ]
  },
  {
   "cell_type": "code",
   "execution_count": 16,
   "id": "9caa3407",
   "metadata": {},
   "outputs": [],
   "source": [
    "model_w = 0.399089\n",
    "model_b = -10.030380"
   ]
  },
  {
   "cell_type": "code",
   "execution_count": 17,
   "id": "4a71e2d0",
   "metadata": {},
   "outputs": [],
   "source": [
    "x_line = np.linspace(0, 100, 50)\n",
    "z=(model_w*x_line)+model_b\n",
    "y_line = 1/(1+np.exp(-z))"
   ]
  },
  {
   "cell_type": "code",
   "execution_count": 18,
   "id": "13621481",
   "metadata": {},
   "outputs": [
    {
     "data": {
      "image/png": "[encoded data removed]",
      "text/plain": [
       "<Figure size 576x360 with 1 Axes>"
      ]
     },
     "metadata": {},
     "output_type": "display_data"
    }
   ],
   "source": [
    "fig, ax = plt.subplots(figsize = (8,5))\n",
    "\n",
    "ax.scatter(x_train[pos],y_train[pos], marker = 'x', s=100, label=\"healthy\")\n",
    "ax.scatter(x_train[neg],y_train[neg], marker = 'o', s=100, label = \"not healthy\")\n",
    "plt.plot(x_line, y_line)\n",
    "\n",
    "\n",
    "ax.set_ylabel('Plant Health', fontsize=12)\n",
    "ax.set_xlabel('Color Intensity', fontsize=12)\n",
    "ax.set_title('The Model using Gradient Descent')\n",
    "ax.legend()\n",
    "\n",
    "plt.show()"
   ]
  }
 ],
 "metadata": {
  "kernelspec": {
   "display_name": "Python 3 (ipykernel)",
   "language": "python",
   "name": "python3"
  },
  "language_info": {
   "codemirror_mode": {
    "name": "ipython",
    "version": 3
   },
   "file_extension": ".py",
   "mimetype": "text/x-python",
   "name": "python",
   "nbconvert_exporter": "python",
   "pygments_lexer": "ipython3",
   "version": "3.9.12"
  }
 },
 "nbformat": 4,
 "nbformat_minor": 5
}
