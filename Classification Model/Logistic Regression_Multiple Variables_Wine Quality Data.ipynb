{
 "cells": [
  {
   "cell_type": "code",
   "execution_count": 1,
   "id": "d487e017",
   "metadata": {},
   "outputs": [],
   "source": [
    "import numpy as np\n",
    "import matplotlib.pyplot as plt\n",
    "import pandas as pd\n",
    "import seaborn as sns\n",
    "import math\n",
    "from sklearn.metrics import confusion_matrix\n",
    "\n",
    "%matplotlib inline"
   ]
  },
  {
   "cell_type": "code",
   "execution_count": 2,
   "id": "2da2c09b",
   "metadata": {},
   "outputs": [
    {
     "name": "stdout",
     "output_type": "stream",
     "text": [
      "      fixed acidity  volatile acidity  citric acid  residual sugar  chlorides  \\\n",
      "0               7.4             0.700         0.00             1.9      0.076   \n",
      "1               7.8             0.880         0.00             2.6      0.098   \n",
      "2               7.8             0.760         0.04             2.3      0.092   \n",
      "3              11.2             0.280         0.56             1.9      0.075   \n",
      "4               7.4             0.700         0.00             1.9      0.076   \n",
      "...             ...               ...          ...             ...        ...   \n",
      "1594            6.2             0.600         0.08             2.0      0.090   \n",
      "1595            5.9             0.550         0.10             2.2      0.062   \n",
      "1596            6.3             0.510         0.13             2.3      0.076   \n",
      "1597            5.9             0.645         0.12             2.0      0.075   \n",
      "1598            6.0             0.310         0.47             3.6      0.067   \n",
      "\n",
      "      free sulfur dioxide  total sulfur dioxide  density    pH  sulphates  \\\n",
      "0                    11.0                  34.0  0.99780  3.51       0.56   \n",
      "1                    25.0                  67.0  0.99680  3.20       0.68   \n",
      "2                    15.0                  54.0  0.99700  3.26       0.65   \n",
      "3                    17.0                  60.0  0.99800  3.16       0.58   \n",
      "4                    11.0                  34.0  0.99780  3.51       0.56   \n",
      "...                   ...                   ...      ...   ...        ...   \n",
      "1594                 32.0                  44.0  0.99490  3.45       0.58   \n",
      "1595                 39.0                  51.0  0.99512  3.52       0.76   \n",
      "1596                 29.0                  40.0  0.99574  3.42       0.75   \n",
      "1597                 32.0                  44.0  0.99547  3.57       0.71   \n",
      "1598                 18.0                  42.0  0.99549  3.39       0.66   \n",
      "\n",
      "      alcohol  quality  \n",
      "0         9.4        5  \n",
      "1         9.8        5  \n",
      "2         9.8        5  \n",
      "3         9.8        6  \n",
      "4         9.4        5  \n",
      "...       ...      ...  \n",
      "1594     10.5        5  \n",
      "1595     11.2        6  \n",
      "1596     11.0        6  \n",
      "1597     10.2        5  \n",
      "1598     11.0        6  \n",
      "\n",
      "[1599 rows x 12 columns]\n"
     ]
    }
   ],
   "source": [
    "df = pd.read_csv(\"./data/winequality-red.csv\")\n",
    "print(df)"
   ]
  },
  {
   "cell_type": "code",
   "execution_count": 3,
   "id": "1c0b8559",
   "metadata": {},
   "outputs": [],
   "source": [
    "## Update the dataframe by assigning the quality as 1 or 0 based on the score.\n",
    "quality_guide = {0: 0, 1: 0, 2: 0, 3: 0, 4: 0, 5: 1, 6: 1, 7: 1, 8: 1, 9: 1, 10: 1}"
   ]
  },
  {
   "cell_type": "code",
   "execution_count": 4,
   "id": "8c98f4e2",
   "metadata": {},
   "outputs": [
    {
     "data": {
      "text/html": [
       "<div>\n",
       "<style scoped>\n",
       "    .dataframe tbody tr th:only-of-type {\n",
       "        vertical-align: middle;\n",
       "    }\n",
       "\n",
       "    .dataframe tbody tr th {\n",
       "        vertical-align: top;\n",
       "    }\n",
       "\n",
       "    .dataframe thead th {\n",
       "        text-align: right;\n",
       "    }\n",
       "</style>\n",
       "<table border=\"1\" class=\"dataframe\">\n",
       "  <thead>\n",
       "    <tr style=\"text-align: right;\">\n",
       "      <th></th>\n",
       "      <th>fixed acidity</th>\n",
       "      <th>volatile acidity</th>\n",
       "      <th>citric acid</th>\n",
       "      <th>residual sugar</th>\n",
       "      <th>chlorides</th>\n",
       "      <th>free sulfur dioxide</th>\n",
       "      <th>total sulfur dioxide</th>\n",
       "      <th>density</th>\n",
       "      <th>pH</th>\n",
       "      <th>sulphates</th>\n",
       "      <th>alcohol</th>\n",
       "      <th>quality</th>\n",
       "    </tr>\n",
       "  </thead>\n",
       "  <tbody>\n",
       "    <tr>\n",
       "      <th>0</th>\n",
       "      <td>7.4</td>\n",
       "      <td>0.700</td>\n",
       "      <td>0.00</td>\n",
       "      <td>1.9</td>\n",
       "      <td>0.076</td>\n",
       "      <td>11.0</td>\n",
       "      <td>34.0</td>\n",
       "      <td>0.99780</td>\n",
       "      <td>3.51</td>\n",
       "      <td>0.56</td>\n",
       "      <td>9.4</td>\n",
       "      <td>1</td>\n",
       "    </tr>\n",
       "    <tr>\n",
       "      <th>1</th>\n",
       "      <td>7.8</td>\n",
       "      <td>0.880</td>\n",
       "      <td>0.00</td>\n",
       "      <td>2.6</td>\n",
       "      <td>0.098</td>\n",
       "      <td>25.0</td>\n",
       "      <td>67.0</td>\n",
       "      <td>0.99680</td>\n",
       "      <td>3.20</td>\n",
       "      <td>0.68</td>\n",
       "      <td>9.8</td>\n",
       "      <td>1</td>\n",
       "    </tr>\n",
       "    <tr>\n",
       "      <th>2</th>\n",
       "      <td>7.8</td>\n",
       "      <td>0.760</td>\n",
       "      <td>0.04</td>\n",
       "      <td>2.3</td>\n",
       "      <td>0.092</td>\n",
       "      <td>15.0</td>\n",
       "      <td>54.0</td>\n",
       "      <td>0.99700</td>\n",
       "      <td>3.26</td>\n",
       "      <td>0.65</td>\n",
       "      <td>9.8</td>\n",
       "      <td>1</td>\n",
       "    </tr>\n",
       "    <tr>\n",
       "      <th>3</th>\n",
       "      <td>11.2</td>\n",
       "      <td>0.280</td>\n",
       "      <td>0.56</td>\n",
       "      <td>1.9</td>\n",
       "      <td>0.075</td>\n",
       "      <td>17.0</td>\n",
       "      <td>60.0</td>\n",
       "      <td>0.99800</td>\n",
       "      <td>3.16</td>\n",
       "      <td>0.58</td>\n",
       "      <td>9.8</td>\n",
       "      <td>1</td>\n",
       "    </tr>\n",
       "    <tr>\n",
       "      <th>4</th>\n",
       "      <td>7.4</td>\n",
       "      <td>0.700</td>\n",
       "      <td>0.00</td>\n",
       "      <td>1.9</td>\n",
       "      <td>0.076</td>\n",
       "      <td>11.0</td>\n",
       "      <td>34.0</td>\n",
       "      <td>0.99780</td>\n",
       "      <td>3.51</td>\n",
       "      <td>0.56</td>\n",
       "      <td>9.4</td>\n",
       "      <td>1</td>\n",
       "    </tr>\n",
       "    <tr>\n",
       "      <th>...</th>\n",
       "      <td>...</td>\n",
       "      <td>...</td>\n",
       "      <td>...</td>\n",
       "      <td>...</td>\n",
       "      <td>...</td>\n",
       "      <td>...</td>\n",
       "      <td>...</td>\n",
       "      <td>...</td>\n",
       "      <td>...</td>\n",
       "      <td>...</td>\n",
       "      <td>...</td>\n",
       "      <td>...</td>\n",
       "    </tr>\n",
       "    <tr>\n",
       "      <th>1594</th>\n",
       "      <td>6.2</td>\n",
       "      <td>0.600</td>\n",
       "      <td>0.08</td>\n",
       "      <td>2.0</td>\n",
       "      <td>0.090</td>\n",
       "      <td>32.0</td>\n",
       "      <td>44.0</td>\n",
       "      <td>0.99490</td>\n",
       "      <td>3.45</td>\n",
       "      <td>0.58</td>\n",
       "      <td>10.5</td>\n",
       "      <td>1</td>\n",
       "    </tr>\n",
       "    <tr>\n",
       "      <th>1595</th>\n",
       "      <td>5.9</td>\n",
       "      <td>0.550</td>\n",
       "      <td>0.10</td>\n",
       "      <td>2.2</td>\n",
       "      <td>0.062</td>\n",
       "      <td>39.0</td>\n",
       "      <td>51.0</td>\n",
       "      <td>0.99512</td>\n",
       "      <td>3.52</td>\n",
       "      <td>0.76</td>\n",
       "      <td>11.2</td>\n",
       "      <td>1</td>\n",
       "    </tr>\n",
       "    <tr>\n",
       "      <th>1596</th>\n",
       "      <td>6.3</td>\n",
       "      <td>0.510</td>\n",
       "      <td>0.13</td>\n",
       "      <td>2.3</td>\n",
       "      <td>0.076</td>\n",
       "      <td>29.0</td>\n",
       "      <td>40.0</td>\n",
       "      <td>0.99574</td>\n",
       "      <td>3.42</td>\n",
       "      <td>0.75</td>\n",
       "      <td>11.0</td>\n",
       "      <td>1</td>\n",
       "    </tr>\n",
       "    <tr>\n",
       "      <th>1597</th>\n",
       "      <td>5.9</td>\n",
       "      <td>0.645</td>\n",
       "      <td>0.12</td>\n",
       "      <td>2.0</td>\n",
       "      <td>0.075</td>\n",
       "      <td>32.0</td>\n",
       "      <td>44.0</td>\n",
       "      <td>0.99547</td>\n",
       "      <td>3.57</td>\n",
       "      <td>0.71</td>\n",
       "      <td>10.2</td>\n",
       "      <td>1</td>\n",
       "    </tr>\n",
       "    <tr>\n",
       "      <th>1598</th>\n",
       "      <td>6.0</td>\n",
       "      <td>0.310</td>\n",
       "      <td>0.47</td>\n",
       "      <td>3.6</td>\n",
       "      <td>0.067</td>\n",
       "      <td>18.0</td>\n",
       "      <td>42.0</td>\n",
       "      <td>0.99549</td>\n",
       "      <td>3.39</td>\n",
       "      <td>0.66</td>\n",
       "      <td>11.0</td>\n",
       "      <td>1</td>\n",
       "    </tr>\n",
       "  </tbody>\n",
       "</table>\n",
       "<p>1599 rows × 12 columns</p>\n",
       "</div>"
      ],
      "text/plain": [
       "      fixed acidity  volatile acidity  citric acid  residual sugar  chlorides  \\\n",
       "0               7.4             0.700         0.00             1.9      0.076   \n",
       "1               7.8             0.880         0.00             2.6      0.098   \n",
       "2               7.8             0.760         0.04             2.3      0.092   \n",
       "3              11.2             0.280         0.56             1.9      0.075   \n",
       "4               7.4             0.700         0.00             1.9      0.076   \n",
       "...             ...               ...          ...             ...        ...   \n",
       "1594            6.2             0.600         0.08             2.0      0.090   \n",
       "1595            5.9             0.550         0.10             2.2      0.062   \n",
       "1596            6.3             0.510         0.13             2.3      0.076   \n",
       "1597            5.9             0.645         0.12             2.0      0.075   \n",
       "1598            6.0             0.310         0.47             3.6      0.067   \n",
       "\n",
       "      free sulfur dioxide  total sulfur dioxide  density    pH  sulphates  \\\n",
       "0                    11.0                  34.0  0.99780  3.51       0.56   \n",
       "1                    25.0                  67.0  0.99680  3.20       0.68   \n",
       "2                    15.0                  54.0  0.99700  3.26       0.65   \n",
       "3                    17.0                  60.0  0.99800  3.16       0.58   \n",
       "4                    11.0                  34.0  0.99780  3.51       0.56   \n",
       "...                   ...                   ...      ...   ...        ...   \n",
       "1594                 32.0                  44.0  0.99490  3.45       0.58   \n",
       "1595                 39.0                  51.0  0.99512  3.52       0.76   \n",
       "1596                 29.0                  40.0  0.99574  3.42       0.75   \n",
       "1597                 32.0                  44.0  0.99547  3.57       0.71   \n",
       "1598                 18.0                  42.0  0.99549  3.39       0.66   \n",
       "\n",
       "      alcohol  quality  \n",
       "0         9.4        1  \n",
       "1         9.8        1  \n",
       "2         9.8        1  \n",
       "3         9.8        1  \n",
       "4         9.4        1  \n",
       "...       ...      ...  \n",
       "1594     10.5        1  \n",
       "1595     11.2        1  \n",
       "1596     11.0        1  \n",
       "1597     10.2        1  \n",
       "1598     11.0        1  \n",
       "\n",
       "[1599 rows x 12 columns]"
      ]
     },
     "execution_count": 4,
     "metadata": {},
     "output_type": "execute_result"
    }
   ],
   "source": [
    "df['quality'] = df['quality'].replace(quality_guide)\n",
    "df"
   ]
  },
  {
   "cell_type": "code",
   "execution_count": 5,
   "id": "4f5292fa",
   "metadata": {},
   "outputs": [
    {
     "name": "stdout",
     "output_type": "stream",
     "text": [
      "(1599, 11)\n",
      "(1599,)\n"
     ]
    }
   ],
   "source": [
    "feature_count = df.shape[1] - 1\n",
    "rows_list = []\n",
    "for i in range(len(df)):\n",
    "    new_row = np.array(df.iloc[i,0:feature_count])\n",
    "    rows_list.append(new_row)\n",
    "    \n",
    "x = np.array(rows_list)\n",
    "y = np.array(df.iloc[:,feature_count])\n",
    "print(x.shape)\n",
    "print(y.shape)"
   ]
  },
  {
   "cell_type": "code",
   "execution_count": 6,
   "id": "7f30c0d7",
   "metadata": {},
   "outputs": [
    {
     "name": "stdout",
     "output_type": "stream",
     "text": [
      "The training data has 1279 observations.\n",
      "The validation data has 320 observations.\n"
     ]
    }
   ],
   "source": [
    "n = len(y)\n",
    "randy = np.random.default_rng()\n",
    "idx = np.arange(n)\n",
    "randy.shuffle(idx)\n",
    "\n",
    "## Splits the data into 80% training and 20% validation\n",
    "train_idx = idx[:int(n*.8)]\n",
    "val_idx = idx[int(n*.8):]\n",
    "\n",
    "x_train, y_train = x[train_idx], y[train_idx]\n",
    "x_val, y_val = x[val_idx], y[val_idx]\n",
    "\n",
    "training_lenth = len(x_train)\n",
    "validation_length = len(x_val)\n",
    "print(f\"The training data has {training_lenth} observations.\")\n",
    "print(f\"The validation data has {validation_length} observations.\")"
   ]
  },
  {
   "cell_type": "code",
   "execution_count": 7,
   "id": "74cc89c2",
   "metadata": {},
   "outputs": [
    {
     "data": {
      "text/html": [
       "<svg  width=\"330\" height=\"55\"><rect x=\"0\" y=\"0\" width=\"55\" height=\"55\" style=\"fill:#e98d6b;stroke-width:2;stroke:rgb(255,255,255)\"/><rect x=\"55\" y=\"0\" width=\"55\" height=\"55\" style=\"fill:#e3685c;stroke-width:2;stroke:rgb(255,255,255)\"/><rect x=\"110\" y=\"0\" width=\"55\" height=\"55\" style=\"fill:#d14a61;stroke-width:2;stroke:rgb(255,255,255)\"/><rect x=\"165\" y=\"0\" width=\"55\" height=\"55\" style=\"fill:#b13c6c;stroke-width:2;stroke:rgb(255,255,255)\"/><rect x=\"220\" y=\"0\" width=\"55\" height=\"55\" style=\"fill:#8f3371;stroke-width:2;stroke:rgb(255,255,255)\"/><rect x=\"275\" y=\"0\" width=\"55\" height=\"55\" style=\"fill:#6c2b6d;stroke-width:2;stroke:rgb(255,255,255)\"/></svg>"
      ],
      "text/plain": [
       "[(0.9155979, 0.55210684, 0.42070204),\n",
       " (0.888292, 0.40830288, 0.36223756),\n",
       " (0.81942908, 0.28911553, 0.38102921),\n",
       " (0.69226314, 0.23413578, 0.42480327),\n",
       " (0.56041794, 0.19845221, 0.44207535),\n",
       " (0.42355299, 0.16934709, 0.42581586)]"
      ]
     },
     "execution_count": 7,
     "metadata": {},
     "output_type": "execute_result"
    }
   ],
   "source": [
    "sns.set_theme(palette=\"flare\")\n",
    "sns.color_palette(\"flare\")"
   ]
  },
  {
   "cell_type": "code",
   "execution_count": 8,
   "id": "1088e40f",
   "metadata": {},
   "outputs": [
    {
     "data": {
      "image/png": "[encoded data removed]",
      "text/plain": [
       "<Figure size 1080x216 with 4 Axes>"
      ]
     },
     "metadata": {},
     "output_type": "display_data"
    }
   ],
   "source": [
    "## plots the data from the first four features in side by side graphs\n",
    "columns = df.columns.tolist()\n",
    "x_features = columns[:feature_count]\n",
    "y_feature = columns[feature_count]\n",
    "\n",
    "fig, ax=plt.subplots(1,4,  figsize=(15,3),  sharey=True)\n",
    "\n",
    "for i in range(4):\n",
    "    ax[i].scatter(x_train[:,i],y_train)\n",
    "    ax[i].set_xlabel(x_features[i])\n",
    "ax[0].set_ylabel(y_feature)\n",
    "plt.show()"
   ]
  },
  {
   "cell_type": "code",
   "execution_count": 9,
   "id": "e1a17e13",
   "metadata": {},
   "outputs": [],
   "source": [
    "## plots logistic data with two axis\n",
    "def plot_data(X, y, ax, pos_label, neg_label, s=80, loc='best' ):\n",
    "\n",
    "    pos = y == 1\n",
    "    neg = y == 0\n",
    "    pos = pos.reshape(-1,)\n",
    "    neg = neg.reshape(-1,)\n",
    "\n",
    "    ax.scatter(X[pos, 0], X[pos, 1], marker='o', s=s, label=pos_label)\n",
    "    ax.scatter(X[neg, 0], X[neg, 1], marker='x', s=s, label=neg_label, lw=3)\n",
    "    ax.legend(loc=loc)\n",
    "\n",
    "    ax.figure.canvas.toolbar_visible = False\n",
    "    ax.figure.canvas.header_visible = False\n",
    "    ax.figure.canvas.footer_visible = False"
   ]
  },
  {
   "cell_type": "code",
   "execution_count": 10,
   "id": "b4b8ad89",
   "metadata": {},
   "outputs": [
    {
     "data": {
      "image/png": "[encoded data removed]",
      "text/plain": [
       "<Figure size 432x288 with 1 Axes>"
      ]
     },
     "metadata": {},
     "output_type": "display_data"
    }
   ],
   "source": [
    "fig, ax = plt.subplots()\n",
    "plot_data(x_train, y_train, ax, \"good\", \"not good\", s=80)\n",
    "x_label,y_label = x_features[0:2]\n",
    "plt.ylabel(y_label) \n",
    "plt.xlabel(x_label) \n",
    "plt.legend(loc=\"upper right\")\n",
    "plt.show()"
   ]
  },
  {
   "cell_type": "markdown",
   "id": "70199d3b",
   "metadata": {},
   "source": [
    "## Gradient Descent Code"
   ]
  },
  {
   "cell_type": "code",
   "execution_count": 11,
   "id": "200702bc",
   "metadata": {},
   "outputs": [],
   "source": [
    "def compute_cost(x, y, w, b):\n",
    "\n",
    "    m, n = x.shape\n",
    "    \n",
    "    s = 0\n",
    "    for i in range(m):\n",
    "        epsilon = 1e-15\n",
    "        xi = x[i]\n",
    "        yi = y[i]\n",
    "        zi = (np.dot(w,xi)) + b\n",
    "        yhat = 1/(1 + np.exp(-zi))\n",
    "        yhat = np.clip(yhat, epsilon, 1- epsilon)\n",
    "        loss = (-yi)*(np.log(yhat))-(1-yi)*(np.log(1-yhat))\n",
    "        if not np.isnan(loss):\n",
    "            s = s + loss\n",
    "    \n",
    "    total_cost =  s / m\n",
    "\n",
    "    return total_cost"
   ]
  },
  {
   "cell_type": "code",
   "execution_count": 12,
   "id": "7c487b67",
   "metadata": {},
   "outputs": [],
   "source": [
    "def update_wb(x, y, w_init, b_init, alpha): \n",
    "\n",
    "    m, n = x.shape\n",
    "    \n",
    "    s =  0\n",
    "    for i in range(m):\n",
    "        xi = x[i]\n",
    "        yi = y[i]\n",
    "        zi = (np.dot(w_init,xi)) + b_init\n",
    "        function = 1/(1 + np.exp(-zi))\n",
    "        difference = (function - yi)*xi\n",
    "        \n",
    "        s = s + difference\n",
    "        \n",
    "        dj_dw = s / m \n",
    "        w = w_init - (alpha * dj_dw)\n",
    "        \n",
    "    s = 0\n",
    "    for i in range(m):\n",
    "        xi = x[i]\n",
    "        yi = y[i]\n",
    "        zi = (np.dot(w_init,xi)) + b_init\n",
    "        function = 1/(1 + np.exp(-zi))\n",
    "        difference = (function - yi)\n",
    "        \n",
    "        s = s + difference\n",
    "        \n",
    "        dj_db = s / m \n",
    "        b = b_init - (alpha * dj_db)\n",
    "\n",
    "    return w, b"
   ]
  },
  {
   "cell_type": "code",
   "execution_count": 13,
   "id": "511c90cf",
   "metadata": {},
   "outputs": [],
   "source": [
    "def add_results(J, w, b, iterations):\n",
    "    new_row = {'iteration': iterations, 'J': J, 'w': w, 'b': b}\n",
    "    results.loc[len(results)] = new_row   "
   ]
  },
  {
   "cell_type": "code",
   "execution_count": 14,
   "id": "1bb244e3",
   "metadata": {},
   "outputs": [],
   "source": [
    "def gradient_descent(x, y, w, b, alpha, iterations): \n",
    "\n",
    "    # number of training examples\n",
    "    m = len(x)\n",
    "    \n",
    "    for i in range(iterations):\n",
    "\n",
    "        # Compute Cost\n",
    "        J = compute_cost(x, y, w, b) \n",
    "        add_results(J, w, b, i)\n",
    "\n",
    "        # Update Parameters using w, b, alpha and gradient\n",
    "        w, b = update_wb(x, y, w, b, alpha)                 \n",
    "        \n",
    "    return results"
   ]
  },
  {
   "cell_type": "markdown",
   "id": "f1a5cc76",
   "metadata": {},
   "source": [
    "## Run Gradient Descent"
   ]
  },
  {
   "cell_type": "code",
   "execution_count": 15,
   "id": "6b7488e8",
   "metadata": {},
   "outputs": [],
   "source": [
    "columns = ['iteration', 'J', 'w', 'b']\n",
    "results = pd.DataFrame(columns = columns)\n",
    "\n",
    "np.random.seed(1)\n",
    "initial_w = 0.01 * (np.random.rand(feature_count) - 0.5)\n",
    "initial_b = -8\n",
    "\n",
    "# Some gradient descent settings\n",
    "iterations = 1000\n",
    "alpha = 0.0001\n",
    "\n",
    "results = gradient_descent(x_train, y_train, initial_w, initial_b, \n",
    "                                    alpha, iterations)"
   ]
  },
  {
   "cell_type": "code",
   "execution_count": 16,
   "id": "d7fd6cf5",
   "metadata": {},
   "outputs": [
    {
     "name": "stdout",
     "output_type": "stream",
     "text": [
      "[ 1.45222618e-01  1.04400171e-02  1.04993019e-04  3.81070271e-02\n",
      " -2.08542776e-03  1.19259431e-01  3.00020157e-01  1.54063741e-02\n",
      "  5.49490744e-02  1.14807761e-02  1.81543935e-01] -7.982989088656591\n",
      "iteration                                                  999\n",
      "J                                                     0.377502\n",
      "w            [0.1452226180064429, 0.010440017126858747, 0.0...\n",
      "b                                                    -7.982989\n",
      "Name: 999, dtype: object\n"
     ]
    }
   ],
   "source": [
    "row = results.loc[results['J'].idxmin()]\n",
    "model_w = row['w']\n",
    "model_b = row['b']\n",
    "print(model_w, model_b)\n",
    "print(row)"
   ]
  },
  {
   "cell_type": "code",
   "execution_count": 17,
   "id": "c3dc1d68",
   "metadata": {},
   "outputs": [
    {
     "data": {
      "text/plain": [
       "[<matplotlib.lines.Line2D at 0x2a2c55b1a30>]"
      ]
     },
     "execution_count": 17,
     "metadata": {},
     "output_type": "execute_result"
    },
    {
     "data": {
      "image/png": "[encoded data removed]",
      "text/plain": [
       "<Figure size 432x288 with 1 Axes>"
      ]
     },
     "metadata": {},
     "output_type": "display_data"
    }
   ],
   "source": [
    "## Check for convergence\n",
    "plt.plot(results['iteration'],results['J'])"
   ]
  },
  {
   "cell_type": "markdown",
   "id": "8a7adb9d",
   "metadata": {},
   "source": [
    "## Look at the Results"
   ]
  },
  {
   "cell_type": "code",
   "execution_count": 18,
   "id": "d5ce25ff",
   "metadata": {},
   "outputs": [],
   "source": [
    "def predict(x, w, b): \n",
    "\n",
    "    m, n = x.shape   \n",
    "    p = np.zeros(m)\n",
    "   \n",
    "    for i in range(m):   \n",
    "        xi = x[i]\n",
    "        yi = y[i]\n",
    "        zi = np.dot(w, xi) + b\n",
    "        \n",
    "        function = 1/(1 + np.exp(-zi)) \n",
    "        \n",
    "        # Apply the threshold to determine True or False, 1 or 0\n",
    "        p[i] = int(function >= 0.5)\n",
    "        \n",
    "    return p"
   ]
  },
  {
   "cell_type": "code",
   "execution_count": 19,
   "id": "d083ac09",
   "metadata": {},
   "outputs": [],
   "source": [
    "y_prediction = predict(x_val, model_w, model_b)"
   ]
  },
  {
   "cell_type": "code",
   "execution_count": 20,
   "id": "7aad451a",
   "metadata": {},
   "outputs": [
    {
     "data": {
      "image/png": "[encoded data removed]",
      "text/plain": [
       "<Figure size 720x432 with 1 Axes>"
      ]
     },
     "metadata": {},
     "output_type": "display_data"
    }
   ],
   "source": [
    "fig, ax = plt.subplots(figsize = (10,6))\n",
    "plot_data(x_val[1:200], y_val[1:200], ax, pos_label=\"Quality\", neg_label=\"Not Quality\")\n",
    "plt.title('Validation Data')\n",
    "x_label,y_label = x_features[0:2]\n",
    "plt.ylabel(y_label) \n",
    "plt.xlabel(x_label) \n",
    "plt.legend(loc=\"upper right\")\n",
    "plt.show()"
   ]
  },
  {
   "cell_type": "code",
   "execution_count": 21,
   "id": "4f5b4a80",
   "metadata": {},
   "outputs": [
    {
     "data": {
      "image/png": "[encoded data removed]",
      "text/plain": [
       "<Figure size 720x432 with 1 Axes>"
      ]
     },
     "metadata": {},
     "output_type": "display_data"
    }
   ],
   "source": [
    "fig, ax = plt.subplots(figsize = (10,6))\n",
    "plot_data(x_val[1:200], y_prediction[1:200], ax, pos_label=\"Quality\", neg_label=\"Not Quality\")\n",
    "plt.title('Prediction')\n",
    "x_label,y_label = x_features[0:2]\n",
    "plt.ylabel(y_label) \n",
    "plt.xlabel(x_label) \n",
    "plt.legend(loc=\"upper right\")\n",
    "plt.show()"
   ]
  },
  {
   "cell_type": "code",
   "execution_count": 22,
   "id": "32b32ab7",
   "metadata": {},
   "outputs": [],
   "source": [
    "cm = confusion_matrix(y_val, y_prediction)"
   ]
  },
  {
   "cell_type": "code",
   "execution_count": 25,
   "id": "722824b5",
   "metadata": {},
   "outputs": [
    {
     "data": {
      "image/png": "[encoded data removed]",
      "text/plain": [
       "<Figure size 576x432 with 1 Axes>"
      ]
     },
     "metadata": {},
     "output_type": "display_data"
    }
   ],
   "source": [
    "plt.figure(figsize=(8, 6))\n",
    "sns.heatmap(cm, annot=True, fmt=\"d\", cmap=\"flare\", cbar=False)\n",
    "plt.xlabel(\"Predicted Labels\")\n",
    "plt.ylabel(\"True Labels\")\n",
    "plt.title(\"Confusion Matrix\")\n",
    "plt.show()"
   ]
  },
  {
   "cell_type": "markdown",
   "id": "3f630e19",
   "metadata": {},
   "source": [
    "## Calculate Percentage of Matches"
   ]
  },
  {
   "cell_type": "code",
   "execution_count": 24,
   "id": "f1d8b5b2",
   "metadata": {},
   "outputs": [
    {
     "name": "stdout",
     "output_type": "stream",
     "text": [
      "Percentage of matching elements: 85.625%\n"
     ]
    }
   ],
   "source": [
    "matches = y_val == y_prediction  # This returns a boolean array\n",
    "\n",
    "# Calculate the percentage of matches\n",
    "percentage_match = np.sum(matches) / len(y_val) * 100\n",
    "\n",
    "print(f\"Percentage of matching elements: {percentage_match}%\")"
   ]
  }
 ],
 "metadata": {
  "kernelspec": {
   "display_name": "Python 3 (ipykernel)",
   "language": "python",
   "name": "python3"
  },
  "language_info": {
   "codemirror_mode": {
    "name": "ipython",
    "version": 3
   },
   "file_extension": ".py",
   "mimetype": "text/x-python",
   "name": "python",
   "nbconvert_exporter": "python",
   "pygments_lexer": "ipython3",
   "version": "3.9.12"
  }
 },
 "nbformat": 4,
 "nbformat_minor": 5
}
